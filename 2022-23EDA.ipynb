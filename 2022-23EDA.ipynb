{
 "cells": [
  {
   "cell_type": "code",
   "execution_count": 1,
   "metadata": {},
   "outputs": [],
   "source": [
    "import pandas as pd\n",
    "import numpy as np\n",
    "import matplotlib.pyplot as plt \n",
    "import seaborn as sns"
   ]
  },
  {
   "cell_type": "code",
   "execution_count": 5,
   "metadata": {},
   "outputs": [],
   "source": [
    "data=pd.read_csv('2022-2023 Football Team Stats.csv', encoding='latin-1', delimiter=';')\n"
   ]
  },
  {
   "cell_type": "code",
   "execution_count": 6,
   "metadata": {},
   "outputs": [
    {
     "data": {
      "text/html": [
       "<div>\n",
       "<style scoped>\n",
       "    .dataframe tbody tr th:only-of-type {\n",
       "        vertical-align: middle;\n",
       "    }\n",
       "\n",
       "    .dataframe tbody tr th {\n",
       "        vertical-align: top;\n",
       "    }\n",
       "\n",
       "    .dataframe thead th {\n",
       "        text-align: right;\n",
       "    }\n",
       "</style>\n",
       "<table border=\"1\" class=\"dataframe\">\n",
       "  <thead>\n",
       "    <tr style=\"text-align: right;\">\n",
       "      <th></th>\n",
       "      <th>Rk</th>\n",
       "      <th>Squad</th>\n",
       "      <th>Country</th>\n",
       "      <th>LgRk</th>\n",
       "      <th>MP</th>\n",
       "      <th>W</th>\n",
       "      <th>D</th>\n",
       "      <th>L</th>\n",
       "      <th>GF</th>\n",
       "      <th>GA</th>\n",
       "      <th>GD</th>\n",
       "      <th>Pts</th>\n",
       "      <th>Pts/MP</th>\n",
       "      <th>xG</th>\n",
       "      <th>xGA</th>\n",
       "      <th>xGD</th>\n",
       "      <th>xGD/90</th>\n",
       "      <th>Attendance</th>\n",
       "      <th>Top Team Scorer</th>\n",
       "      <th>Goalkeeper</th>\n",
       "    </tr>\n",
       "  </thead>\n",
       "  <tbody>\n",
       "    <tr>\n",
       "      <th>0</th>\n",
       "      <td>1</td>\n",
       "      <td>Barcelona</td>\n",
       "      <td>ESP</td>\n",
       "      <td>1</td>\n",
       "      <td>29</td>\n",
       "      <td>23</td>\n",
       "      <td>4</td>\n",
       "      <td>2</td>\n",
       "      <td>53</td>\n",
       "      <td>9</td>\n",
       "      <td>44</td>\n",
       "      <td>73</td>\n",
       "      <td>2.52</td>\n",
       "      <td>55.9</td>\n",
       "      <td>22.7</td>\n",
       "      <td>33.2</td>\n",
       "      <td>1.14</td>\n",
       "      <td>83148</td>\n",
       "      <td>Robert Lewandowski - 17</td>\n",
       "      <td>Marc-André ter Stegen</td>\n",
       "    </tr>\n",
       "    <tr>\n",
       "      <th>1</th>\n",
       "      <td>2</td>\n",
       "      <td>Napoli</td>\n",
       "      <td>ITA</td>\n",
       "      <td>1</td>\n",
       "      <td>30</td>\n",
       "      <td>24</td>\n",
       "      <td>3</td>\n",
       "      <td>3</td>\n",
       "      <td>66</td>\n",
       "      <td>21</td>\n",
       "      <td>45</td>\n",
       "      <td>75</td>\n",
       "      <td>2.50</td>\n",
       "      <td>53.2</td>\n",
       "      <td>25.3</td>\n",
       "      <td>27.9</td>\n",
       "      <td>0.93</td>\n",
       "      <td>25662</td>\n",
       "      <td>Victor Osimhen - 21</td>\n",
       "      <td>Alex Meret</td>\n",
       "    </tr>\n",
       "    <tr>\n",
       "      <th>2</th>\n",
       "      <td>3</td>\n",
       "      <td>Paris S-G</td>\n",
       "      <td>FRA</td>\n",
       "      <td>1</td>\n",
       "      <td>32</td>\n",
       "      <td>24</td>\n",
       "      <td>3</td>\n",
       "      <td>5</td>\n",
       "      <td>75</td>\n",
       "      <td>31</td>\n",
       "      <td>44</td>\n",
       "      <td>75</td>\n",
       "      <td>2.34</td>\n",
       "      <td>64.7</td>\n",
       "      <td>39.1</td>\n",
       "      <td>25.7</td>\n",
       "      <td>0.80</td>\n",
       "      <td>40508</td>\n",
       "      <td>Kylian Mbappé - 22</td>\n",
       "      <td>Gianluigi Donnarumma</td>\n",
       "    </tr>\n",
       "    <tr>\n",
       "      <th>3</th>\n",
       "      <td>4</td>\n",
       "      <td>Arsenal</td>\n",
       "      <td>ENG</td>\n",
       "      <td>1</td>\n",
       "      <td>32</td>\n",
       "      <td>23</td>\n",
       "      <td>6</td>\n",
       "      <td>3</td>\n",
       "      <td>77</td>\n",
       "      <td>34</td>\n",
       "      <td>43</td>\n",
       "      <td>75</td>\n",
       "      <td>2.34</td>\n",
       "      <td>64.1</td>\n",
       "      <td>34.7</td>\n",
       "      <td>29.4</td>\n",
       "      <td>0.92</td>\n",
       "      <td>60203</td>\n",
       "      <td>Martinelli - 15</td>\n",
       "      <td>Aaron Ramsdale</td>\n",
       "    </tr>\n",
       "    <tr>\n",
       "      <th>4</th>\n",
       "      <td>5</td>\n",
       "      <td>Manchester City</td>\n",
       "      <td>ENG</td>\n",
       "      <td>2</td>\n",
       "      <td>30</td>\n",
       "      <td>22</td>\n",
       "      <td>4</td>\n",
       "      <td>4</td>\n",
       "      <td>78</td>\n",
       "      <td>28</td>\n",
       "      <td>50</td>\n",
       "      <td>70</td>\n",
       "      <td>2.33</td>\n",
       "      <td>63.5</td>\n",
       "      <td>24.5</td>\n",
       "      <td>39.0</td>\n",
       "      <td>1.30</td>\n",
       "      <td>53203</td>\n",
       "      <td>Erling Haaland - 32</td>\n",
       "      <td>Ederson</td>\n",
       "    </tr>\n",
       "  </tbody>\n",
       "</table>\n",
       "</div>"
      ],
      "text/plain": [
       "   Rk            Squad Country  LgRk  MP   W  D  L  GF  GA  GD  Pts  Pts/MP  \\\n",
       "0   1        Barcelona     ESP     1  29  23  4  2  53   9  44   73    2.52   \n",
       "1   2           Napoli     ITA     1  30  24  3  3  66  21  45   75    2.50   \n",
       "2   3        Paris S-G     FRA     1  32  24  3  5  75  31  44   75    2.34   \n",
       "3   4          Arsenal     ENG     1  32  23  6  3  77  34  43   75    2.34   \n",
       "4   5  Manchester City     ENG     2  30  22  4  4  78  28  50   70    2.33   \n",
       "\n",
       "     xG   xGA   xGD  xGD/90  Attendance          Top Team Scorer  \\\n",
       "0  55.9  22.7  33.2    1.14       83148  Robert Lewandowski - 17   \n",
       "1  53.2  25.3  27.9    0.93       25662      Victor Osimhen - 21   \n",
       "2  64.7  39.1  25.7    0.80       40508       Kylian Mbappé - 22   \n",
       "3  64.1  34.7  29.4    0.92       60203          Martinelli - 15   \n",
       "4  63.5  24.5  39.0    1.30       53203      Erling Haaland - 32   \n",
       "\n",
       "              Goalkeeper  \n",
       "0  Marc-André ter Stegen  \n",
       "1             Alex Meret  \n",
       "2   Gianluigi Donnarumma  \n",
       "3         Aaron Ramsdale  \n",
       "4                Ederson  "
      ]
     },
     "execution_count": 6,
     "metadata": {},
     "output_type": "execute_result"
    }
   ],
   "source": [
    "data.head()"
   ]
  },
  {
   "cell_type": "code",
   "execution_count": 8,
   "metadata": {},
   "outputs": [
    {
     "data": {
      "text/plain": [
       "(98, 20)"
      ]
     },
     "execution_count": 8,
     "metadata": {},
     "output_type": "execute_result"
    }
   ],
   "source": [
    "data.shape"
   ]
  },
  {
   "cell_type": "code",
   "execution_count": 9,
   "metadata": {},
   "outputs": [
    {
     "name": "stdout",
     "output_type": "stream",
     "text": [
      "<class 'pandas.core.frame.DataFrame'>\n",
      "RangeIndex: 98 entries, 0 to 97\n",
      "Data columns (total 20 columns):\n",
      " #   Column           Non-Null Count  Dtype  \n",
      "---  ------           --------------  -----  \n",
      " 0   Rk               98 non-null     int64  \n",
      " 1   Squad            98 non-null     object \n",
      " 2   Country          98 non-null     object \n",
      " 3   LgRk             98 non-null     int64  \n",
      " 4   MP               98 non-null     int64  \n",
      " 5   W                98 non-null     int64  \n",
      " 6   D                98 non-null     int64  \n",
      " 7   L                98 non-null     int64  \n",
      " 8   GF               98 non-null     int64  \n",
      " 9   GA               98 non-null     int64  \n",
      " 10  GD               98 non-null     int64  \n",
      " 11  Pts              98 non-null     int64  \n",
      " 12  Pts/MP           98 non-null     float64\n",
      " 13  xG               98 non-null     float64\n",
      " 14  xGA              98 non-null     float64\n",
      " 15  xGD              98 non-null     float64\n",
      " 16  xGD/90           98 non-null     float64\n",
      " 17  Attendance       98 non-null     int64  \n",
      " 18  Top Team Scorer  98 non-null     object \n",
      " 19  Goalkeeper       98 non-null     object \n",
      "dtypes: float64(5), int64(11), object(4)\n",
      "memory usage: 15.4+ KB\n"
     ]
    }
   ],
   "source": [
    "data.info()"
   ]
  },
  {
   "cell_type": "code",
   "execution_count": 10,
   "metadata": {},
   "outputs": [
    {
     "data": {
      "text/plain": [
       "Index(['Rk', 'Squad', 'Country', 'LgRk', 'MP', 'W', 'D', 'L', 'GF', 'GA', 'GD',\n",
       "       'Pts', 'Pts/MP', 'xG', 'xGA', 'xGD', 'xGD/90', 'Attendance',\n",
       "       'Top Team Scorer', 'Goalkeeper'],\n",
       "      dtype='object')"
      ]
     },
     "execution_count": 10,
     "metadata": {},
     "output_type": "execute_result"
    }
   ],
   "source": [
    "data.columns"
   ]
  },
  {
   "cell_type": "markdown",
   "metadata": {},
   "source": [
    "Columns' description are listed below.\n",
    "\n",
    "\n",
    "* Rk : Rank\n",
    "* Squad : Squad's name\n",
    "* Country : Name of the country\n",
    "* LgRk : Squad finish within the league\n",
    "* MP : Matches played\n",
    "* W : Wins\n",
    "* D : Draws\n",
    "* L : Losses\n",
    "* GF : Goals for\n",
    "* GA : Goals against\n",
    "* GD : Goal difference\n",
    "* Pts : Points\n",
    "* Pts/MP : Points per game\n",
    "* xG : Expected goals\n",
    "* xGA : Expected goals allowed\n",
    "* xGD : Expected goals difference\n",
    "* xGD/90 : Expected goals difference per 90 minutes\n",
    "* Attendance : Attendance per game during this season, only for home matches\n",
    "* Top Team Scorer : Top team scorer in league play\n",
    "* Goalkeeper : Goalkeeper with the most minutes in league play"
   ]
  },
  {
   "cell_type": "code",
   "execution_count": 11,
   "metadata": {},
   "outputs": [
    {
     "data": {
      "image/png": "[encoded data removed]",
      "text/plain": [
       "<Figure size 1000x600 with 1 Axes>"
      ]
     },
     "metadata": {},
     "output_type": "display_data"
    }
   ],
   "source": [
    "# Sort the teams based on Points (Pts) in descending order\n",
    "top_teams = data.sort_values(by='Pts', ascending=False).head(10)\n",
    "\n",
    "# Plotting a bar chart of the top 10 teams by Points\n",
    "plt.figure(figsize=(10, 6))\n",
    "plt.barh(top_teams['Squad'], top_teams['Pts'], color='skyblue')\n",
    "plt.xlabel('Points')\n",
    "plt.title('Top 10 Football Teams by Points in 2022-2023')\n",
    "plt.gca().invert_yaxis()  # Invert y-axis to show the highest at the top\n",
    "plt.show()"
   ]
  },
  {
   "cell_type": "code",
   "execution_count": 12,
   "metadata": {},
   "outputs": [
    {
     "data": {
      "image/png": "[encoded data removed]",
      "text/plain": [
       "<Figure size 1000x600 with 1 Axes>"
      ]
     },
     "metadata": {},
     "output_type": "display_data"
    },
    {
     "data": {
      "image/png": "[encoded data removed]",
      "text/plain": [
       "<Figure size 1000x600 with 1 Axes>"
      ]
     },
     "metadata": {},
     "output_type": "display_data"
    }
   ],
   "source": [
    "# Scatter plot for GD vs. Pts\n",
    "plt.figure(figsize=(10, 6))\n",
    "plt.scatter(data['GD'], data['Pts'], color='blue')\n",
    "plt.title('Goal Difference vs. Points')\n",
    "plt.xlabel('Goal Difference (GD)')\n",
    "plt.ylabel('Points (Pts)')\n",
    "plt.grid(True)\n",
    "plt.show()\n",
    "\n",
    "# Scatter plot for GD vs. GF\n",
    "plt.figure(figsize=(10, 6))\n",
    "plt.scatter(data['GD'], data['GF'], color='green')\n",
    "plt.title('Goal Difference vs. Goals For')\n",
    "plt.xlabel('Goal Difference (GD)')\n",
    "plt.ylabel('Goals For (GF)')\n",
    "plt.grid(True)\n",
    "plt.show()"
   ]
  },
  {
   "cell_type": "code",
   "execution_count": 18,
   "metadata": {},
   "outputs": [
    {
     "data": {
      "text/html": [
       "<div>\n",
       "<style scoped>\n",
       "    .dataframe tbody tr th:only-of-type {\n",
       "        vertical-align: middle;\n",
       "    }\n",
       "\n",
       "    .dataframe tbody tr th {\n",
       "        vertical-align: top;\n",
       "    }\n",
       "\n",
       "    .dataframe thead th {\n",
       "        text-align: right;\n",
       "    }\n",
       "</style>\n",
       "<table border=\"1\" class=\"dataframe\">\n",
       "  <thead>\n",
       "    <tr style=\"text-align: right;\">\n",
       "      <th></th>\n",
       "      <th>Scorer Name</th>\n",
       "      <th>Goals Scored</th>\n",
       "      <th>Squad</th>\n",
       "    </tr>\n",
       "  </thead>\n",
       "  <tbody>\n",
       "    <tr>\n",
       "      <th>4</th>\n",
       "      <td>Erling Haaland</td>\n",
       "      <td>32</td>\n",
       "      <td>Manchester City</td>\n",
       "    </tr>\n",
       "    <tr>\n",
       "      <th>24</th>\n",
       "      <td>Harry Kane</td>\n",
       "      <td>23</td>\n",
       "      <td>Tottenham</td>\n",
       "    </tr>\n",
       "    <tr>\n",
       "      <th>2</th>\n",
       "      <td>Kylian Mbappé</td>\n",
       "      <td>22</td>\n",
       "      <td>Paris S-G</td>\n",
       "    </tr>\n",
       "    <tr>\n",
       "      <th>22</th>\n",
       "      <td>Jonathan David</td>\n",
       "      <td>21</td>\n",
       "      <td>Lille</td>\n",
       "    </tr>\n",
       "    <tr>\n",
       "      <th>1</th>\n",
       "      <td>Victor Osimhen</td>\n",
       "      <td>21</td>\n",
       "      <td>Napoli</td>\n",
       "    </tr>\n",
       "    <tr>\n",
       "      <th>30</th>\n",
       "      <td>Alexandre Lacazette</td>\n",
       "      <td>19</td>\n",
       "      <td>Lyon</td>\n",
       "    </tr>\n",
       "    <tr>\n",
       "      <th>45</th>\n",
       "      <td>Ivan Toney</td>\n",
       "      <td>19</td>\n",
       "      <td>Brentford</td>\n",
       "    </tr>\n",
       "    <tr>\n",
       "      <th>36</th>\n",
       "      <td>Folarin Balogun</td>\n",
       "      <td>18</td>\n",
       "      <td>Reims</td>\n",
       "    </tr>\n",
       "    <tr>\n",
       "      <th>0</th>\n",
       "      <td>Robert Lewandowski</td>\n",
       "      <td>17</td>\n",
       "      <td>Barcelona</td>\n",
       "    </tr>\n",
       "    <tr>\n",
       "      <th>14</th>\n",
       "      <td>Wissam Ben Yedder</td>\n",
       "      <td>17</td>\n",
       "      <td>Monaco</td>\n",
       "    </tr>\n",
       "  </tbody>\n",
       "</table>\n",
       "</div>"
      ],
      "text/plain": [
       "            Scorer Name  Goals Scored            Squad\n",
       "4        Erling Haaland            32  Manchester City\n",
       "24           Harry Kane            23        Tottenham\n",
       "2         Kylian Mbappé            22        Paris S-G\n",
       "22       Jonathan David            21            Lille\n",
       "1        Victor Osimhen            21           Napoli\n",
       "30  Alexandre Lacazette            19             Lyon\n",
       "45           Ivan Toney            19        Brentford\n",
       "36      Folarin Balogun            18            Reims\n",
       "0    Robert Lewandowski            17        Barcelona\n",
       "14    Wissam Ben Yedder            17           Monaco"
      ]
     },
     "execution_count": 18,
     "metadata": {},
     "output_type": "execute_result"
    }
   ],
   "source": [
    "\n",
    "\n",
    "# Extract the goal scorers and their goals from the 'Top Team Scorer' column\n",
    "data['Scorer Name'] = data['Top Team Scorer'].apply(lambda x: x.split(' - ')[0])\n",
    "data['Goals Scored'] = data['Top Team Scorer'].apply(lambda x: int(x.split(' - ')[1]))\n",
    "\n",
    "# Find the top scorer by sorting the data based on 'Goals Scored'\n",
    "top_scorers = data.sort_values(by='Goals Scored', ascending=False).head(10)\n",
    "\n",
    "# Display the top scorer information as a table\n",
    "top_scorer_table = top_scorers[['Scorer Name', 'Goals Scored', 'Squad']]\n",
    "top_scorer_table"
   ]
  },
  {
   "cell_type": "code",
   "execution_count": 19,
   "metadata": {},
   "outputs": [
    {
     "data": {
      "image/png": "[encoded data removed]",
      "text/plain": [
       "<Figure size 1200x800 with 1 Axes>"
      ]
     },
     "metadata": {},
     "output_type": "display_data"
    }
   ],
   "source": [
    "\n",
    "# Set the style\n",
    "sns.set(style=\"whitegrid\")\n",
    "\n",
    "# Visualize the top 5 scorers\n",
    "plt.figure(figsize=(12, 8))\n",
    "colors = sns.color_palette(\"viridis\", len(top_scorers))\n",
    "\n",
    "bars = plt.barh(top_scorers['Scorer Name'] + \" (\" + top_scorers['Squad'] + \")\", top_scorers['Goals Scored'], color=colors)\n",
    "plt.xlabel('Goals Scored', fontsize=14)\n",
    "plt.ylabel('Scorer Name (Team)', fontsize=14)\n",
    "plt.title('Top 5 Scorers in 2022-2023 Season', fontsize=16)\n",
    "plt.gca().invert_yaxis()  # Invert y-axis to have the top scorer at the top\n",
    "\n",
    "# Add grid lines\n",
    "plt.grid(axis='x', linestyle='--', alpha=0.7)\n",
    "\n",
    "# Add annotations\n",
    "for bar in bars:\n",
    "    plt.text(bar.get_width() + 0.1, bar.get_y() + bar.get_height()/2, f'{bar.get_width()}', \n",
    "             va='center', ha='left', fontsize=12, color='black')\n",
    "\n",
    "plt.show()"
   ]
  },
  {
   "cell_type": "code",
   "execution_count": 21,
   "metadata": {},
   "outputs": [
    {
     "data": {
      "image/png": "[encoded data removed]",
      "text/plain": [
       "<Figure size 1400x800 with 1 Axes>"
      ]
     },
     "metadata": {},
     "output_type": "display_data"
    }
   ],
   "source": [
    "\n",
    "\n",
    "# Sort the data by 'GA' (Goals Against) to find the goalkeepers with the fewest goals conceded\n",
    "best_goalkeepers = data.sort_values(by='GA', ascending=True).head(5)\n",
    "\n",
    "# Set up the color palette for the bar colors (gradient from blue to green)\n",
    "colors = sns.color_palette(\"coolwarm\", len(best_goalkeepers))\n",
    "\n",
    "# Create the horizontal bar chart with annotations\n",
    "plt.figure(figsize=(14, 8))\n",
    "bars = plt.barh(best_goalkeepers['Goalkeeper'] + \" (\" + best_goalkeepers['Squad'] + \")\", best_goalkeepers['GA'], color=colors)\n",
    "plt.xlabel('Goals Against (GA)', fontsize=14)\n",
    "plt.ylabel('Goalkeeper (Team)', fontsize=14)\n",
    "plt.title('Top 5 Goalkeepers in 2022-2023 Season\\n(Fewest Goals Conceded)', fontsize=18, fontweight='bold')\n",
    "\n",
    "# Add grid lines\n",
    "plt.grid(axis='x', linestyle='--', alpha=0.7)\n",
    "\n",
    "# Add annotations to each bar\n",
    "for bar in bars:\n",
    "    plt.text(bar.get_width() + 0.5, bar.get_y() + bar.get_height()/2, f'{int(bar.get_width())}', \n",
    "             va='center', ha='left', fontsize=12, color='black')\n",
    "\n",
    "plt.gca().invert_yaxis()  # Invert y-axis to have the best goalkeeper at the top\n",
    "\n",
    "# Add a legend\n",
    "plt.legend(['Goals Against'], loc='lower right')\n",
    "\n",
    "plt.show()"
   ]
  },
  {
   "cell_type": "code",
   "execution_count": 30,
   "metadata": {},
   "outputs": [],
   "source": [
    "\n",
    "#Attendance in Europe\n",
    "\n",
    "Attendance[\"squad/country\"] = Attendance[[\"Squad\", \"Country\"]].astype(str).agg(\" - \".join, axis=1)\n",
    "Attendance[\"label\"] = [i + '\\n' + str(j) for i, j in zip(Attendance[\"squad/country\"], Attendance[\"Attendance\"])]\n",
    "Attendance[\"Attendance\"] = pd.to_numeric(Attendance[\"Attendance\"], errors='coerce')\n",
    "Attendance = Attendance[:25].sort_values(by=\"Attendance\", ascending=False)\n"
   ]
  },
  {
   "cell_type": "code",
   "execution_count": 31,
   "metadata": {},
   "outputs": [
    {
     "name": "stderr",
     "output_type": "stream",
     "text": [
      "/var/folders/cj/j3vhqkfj15734l8tr2dnw9h00000gn/T/ipykernel_3190/2763607525.py:25: MatplotlibDeprecationWarning: The get_cmap function was deprecated in Matplotlib 3.7 and will be removed two minor releases later. Use ``matplotlib.colormaps[name]`` or ``matplotlib.colormaps.get_cmap(obj)`` instead.\n",
      "  color_map = get_cmap('vlag_r')\n",
      "findfont: Font family 'Microsoft Tai Le' not found.\n",
      "findfont: Font family 'Microsoft Tai Le' not found.\n",
      "findfont: Font family 'Microsoft Tai Le' not found.\n",
      "findfont: Font family 'Microsoft Tai Le' not found.\n",
      "findfont: Font family 'Microsoft Tai Le' not found.\n",
      "findfont: Font family 'Microsoft Tai Le' not found.\n",
      "findfont: Font family 'Microsoft Tai Le' not found.\n",
      "findfont: Font family 'Microsoft Tai Le' not found.\n",
      "findfont: Font family 'Microsoft Tai Le' not found.\n",
      "findfont: Font family 'Microsoft Tai Le' not found.\n",
      "findfont: Font family 'Microsoft Tai Le' not found.\n",
      "findfont: Font family 'Microsoft Tai Le' not found.\n",
      "findfont: Font family 'Microsoft Tai Le' not found.\n",
      "findfont: Font family 'Microsoft Tai Le' not found.\n",
      "findfont: Font family 'Microsoft Tai Le' not found.\n",
      "findfont: Font family 'Microsoft Tai Le' not found.\n",
      "findfont: Font family 'Microsoft Tai Le' not found.\n",
      "findfont: Font family 'Microsoft Tai Le' not found.\n",
      "findfont: Font family 'Microsoft Tai Le' not found.\n",
      "findfont: Font family 'Microsoft Tai Le' not found.\n",
      "findfont: Font family 'Microsoft Tai Le' not found.\n",
      "findfont: Font family 'Microsoft Tai Le' not found.\n",
      "findfont: Font family 'Microsoft Tai Le' not found.\n",
      "findfont: Font family 'Microsoft Tai Le' not found.\n",
      "findfont: Font family 'Microsoft Tai Le' not found.\n",
      "findfont: Font family 'Microsoft Tai Le' not found.\n",
      "findfont: Font family 'Microsoft Tai Le' not found.\n",
      "findfont: Font family 'Microsoft Tai Le' not found.\n",
      "findfont: Font family 'Microsoft Tai Le' not found.\n",
      "findfont: Font family 'Microsoft Tai Le' not found.\n",
      "findfont: Font family 'Microsoft Tai Le' not found.\n",
      "findfont: Font family 'Microsoft Tai Le' not found.\n",
      "findfont: Font family 'Microsoft Tai Le' not found.\n",
      "findfont: Font family 'Microsoft Tai Le' not found.\n",
      "findfont: Font family 'Microsoft Tai Le' not found.\n",
      "findfont: Font family 'Microsoft Tai Le' not found.\n",
      "findfont: Font family 'Microsoft Tai Le' not found.\n",
      "findfont: Font family 'Microsoft Tai Le' not found.\n",
      "findfont: Font family 'Microsoft Tai Le' not found.\n",
      "findfont: Font family 'Microsoft Tai Le' not found.\n",
      "findfont: Font family 'Microsoft Tai Le' not found.\n",
      "findfont: Font family 'Microsoft Tai Le' not found.\n",
      "findfont: Font family 'Microsoft Tai Le' not found.\n",
      "findfont: Font family 'Microsoft Tai Le' not found.\n",
      "findfont: Font family 'Microsoft Tai Le' not found.\n",
      "findfont: Font family 'Microsoft Tai Le' not found.\n",
      "findfont: Font family 'Microsoft Tai Le' not found.\n",
      "findfont: Font family 'Microsoft Tai Le' not found.\n",
      "findfont: Font family 'Microsoft Tai Le' not found.\n",
      "findfont: Font family 'Microsoft Tai Le' not found.\n",
      "findfont: Font family 'Microsoft Tai Le' not found.\n",
      "findfont: Font family 'Microsoft Tai Le' not found.\n",
      "findfont: Font family 'Microsoft Tai Le' not found.\n",
      "findfont: Font family 'Microsoft Tai Le' not found.\n",
      "findfont: Font family 'Microsoft Tai Le' not found.\n",
      "findfont: Font family 'Microsoft Tai Le' not found.\n",
      "findfont: Font family 'Microsoft Tai Le' not found.\n",
      "findfont: Font family 'Microsoft Tai Le' not found.\n",
      "findfont: Font family 'Microsoft Tai Le' not found.\n",
      "findfont: Font family 'Microsoft Tai Le' not found.\n",
      "findfont: Font family 'Microsoft Tai Le' not found.\n",
      "findfont: Font family 'Microsoft Tai Le' not found.\n",
      "findfont: Font family 'Microsoft Tai Le' not found.\n",
      "findfont: Font family 'Microsoft Tai Le' not found.\n",
      "findfont: Font family 'Microsoft Tai Le' not found.\n",
      "findfont: Font family 'Microsoft Tai Le' not found.\n",
      "findfont: Font family 'Microsoft Tai Le' not found.\n",
      "findfont: Font family 'Microsoft Tai Le' not found.\n",
      "findfont: Font family 'Microsoft Tai Le' not found.\n",
      "findfont: Font family 'Microsoft Tai Le' not found.\n",
      "findfont: Font family 'Microsoft Tai Le' not found.\n",
      "findfont: Font family 'Microsoft Tai Le' not found.\n",
      "findfont: Font family 'Microsoft Tai Le' not found.\n",
      "findfont: Font family 'Microsoft Tai Le' not found.\n",
      "findfont: Font family 'Microsoft Tai Le' not found.\n",
      "findfont: Font family 'Microsoft Tai Le' not found.\n",
      "findfont: Font family 'Microsoft Tai Le' not found.\n",
      "findfont: Font family 'Microsoft Tai Le' not found.\n",
      "findfont: Font family 'Microsoft Tai Le' not found.\n",
      "findfont: Font family 'Microsoft Tai Le' not found.\n",
      "findfont: Font family 'Microsoft Tai Le' not found.\n",
      "findfont: Font family 'Microsoft Tai Le' not found.\n",
      "findfont: Font family 'Microsoft Tai Le' not found.\n",
      "findfont: Font family 'Microsoft Tai Le' not found.\n",
      "findfont: Font family 'Microsoft Tai Le' not found.\n",
      "findfont: Font family 'Microsoft Tai Le' not found.\n",
      "findfont: Font family 'Microsoft Tai Le' not found.\n",
      "findfont: Font family 'Microsoft Tai Le' not found.\n",
      "findfont: Font family 'Microsoft Tai Le' not found.\n",
      "findfont: Font family 'Microsoft Tai Le' not found.\n",
      "findfont: Font family 'Microsoft Tai Le' not found.\n",
      "findfont: Font family 'Microsoft Tai Le' not found.\n",
      "findfont: Font family 'Microsoft Tai Le' not found.\n",
      "findfont: Font family 'Microsoft Tai Le' not found.\n",
      "findfont: Font family 'Microsoft Tai Le' not found.\n",
      "findfont: Font family 'Microsoft Tai Le' not found.\n",
      "findfont: Font family 'Microsoft Tai Le' not found.\n",
      "findfont: Font family 'Microsoft Tai Le' not found.\n",
      "findfont: Font family 'Microsoft Tai Le' not found.\n",
      "findfont: Font family 'Microsoft Tai Le' not found.\n",
      "findfont: Font family 'Microsoft Tai Le' not found.\n",
      "findfont: Font family 'Microsoft Tai Le' not found.\n",
      "findfont: Font family 'Microsoft Tai Le' not found.\n",
      "findfont: Font family 'Microsoft Tai Le' not found.\n",
      "findfont: Font family 'Microsoft Tai Le' not found.\n",
      "findfont: Font family 'Microsoft Tai Le' not found.\n",
      "findfont: Font family 'Microsoft Tai Le' not found.\n",
      "findfont: Font family 'Microsoft Tai Le' not found.\n",
      "findfont: Font family 'Microsoft Tai Le' not found.\n",
      "findfont: Font family 'Microsoft Tai Le' not found.\n",
      "findfont: Font family 'Microsoft Tai Le' not found.\n",
      "findfont: Font family 'Microsoft Tai Le' not found.\n",
      "findfont: Font family 'Microsoft Tai Le' not found.\n",
      "findfont: Font family 'Microsoft Tai Le' not found.\n",
      "findfont: Font family 'Microsoft Tai Le' not found.\n",
      "findfont: Font family 'Microsoft Tai Le' not found.\n",
      "findfont: Font family 'Microsoft Tai Le' not found.\n",
      "findfont: Font family 'Microsoft Tai Le' not found.\n",
      "findfont: Font family 'Microsoft Tai Le' not found.\n",
      "findfont: Font family 'Microsoft Tai Le' not found.\n",
      "findfont: Font family 'Microsoft Tai Le' not found.\n",
      "findfont: Font family 'Microsoft Tai Le' not found.\n",
      "findfont: Font family 'Microsoft Tai Le' not found.\n",
      "findfont: Font family 'Microsoft Tai Le' not found.\n",
      "findfont: Font family 'Microsoft Tai Le' not found.\n",
      "findfont: Font family 'Microsoft Tai Le' not found.\n",
      "findfont: Font family 'Microsoft Tai Le' not found.\n",
      "findfont: Font family 'Microsoft Tai Le' not found.\n",
      "findfont: Font family 'Microsoft Tai Le' not found.\n",
      "findfont: Font family 'Microsoft Tai Le' not found.\n",
      "findfont: Font family 'Microsoft Tai Le' not found.\n",
      "findfont: Font family 'Microsoft Tai Le' not found.\n",
      "findfont: Font family 'Microsoft Tai Le' not found.\n",
      "findfont: Font family 'Microsoft Tai Le' not found.\n",
      "findfont: Font family 'Microsoft Tai Le' not found.\n",
      "findfont: Font family 'Microsoft Tai Le' not found.\n",
      "findfont: Font family 'Microsoft Tai Le' not found.\n",
      "findfont: Font family 'Microsoft Tai Le' not found.\n",
      "findfont: Font family 'Microsoft Tai Le' not found.\n",
      "findfont: Font family 'Microsoft Tai Le' not found.\n",
      "findfont: Font family 'Microsoft Tai Le' not found.\n",
      "findfont: Font family 'Microsoft Tai Le' not found.\n",
      "findfont: Font family 'Microsoft Tai Le' not found.\n",
      "findfont: Font family 'Microsoft Tai Le' not found.\n",
      "findfont: Font family 'Microsoft Tai Le' not found.\n",
      "findfont: Font family 'Microsoft Tai Le' not found.\n",
      "findfont: Font family 'Microsoft Tai Le' not found.\n",
      "findfont: Font family 'Microsoft Tai Le' not found.\n",
      "findfont: Font family 'Microsoft Tai Le' not found.\n",
      "findfont: Font family 'Microsoft Tai Le' not found.\n",
      "findfont: Font family 'Microsoft Tai Le' not found.\n",
      "findfont: Font family 'Microsoft Tai Le' not found.\n"
     ]
    },
    {
     "data": {
      "image/png": "[encoded data removed]",
      "text/plain": [
       "<Figure size 1400x1400 with 1 Axes>"
      ]
     },
     "metadata": {},
     "output_type": "display_data"
    }
   ],
   "source": [
    "from matplotlib.cm import get_cmap\n",
    "\n",
    "# Plot settings\n",
    "plt.figure(figsize=(14, 14))\n",
    "sns.set_style('whitegrid')\n",
    "ax = plt.subplot(111, polar=True)\n",
    "ax.grid(False)\n",
    "plt.axis(\"off\")\n",
    "\n",
    "# Font settings for the labels\n",
    "fontlabels = {\n",
    "    'family': 'Microsoft Tai Le',\n",
    "    'color': 'black',\n",
    "    'size': '10',\n",
    "}\n",
    "\n",
    "# Data for the circular bar chart\n",
    "lowerlimit = 0\n",
    "heights = list(Attendance[\"Attendance\"])\n",
    "width = 2 * np.pi / len(Attendance)\n",
    "indexes = [i for i in range(1, len(Attendance)+1)]\n",
    "angles = [element * width for element in range(len(Attendance))]\n",
    "\n",
    "# Colors for the bars using a colormap\n",
    "color_map = get_cmap('vlag_r')\n",
    "colors = color_map(np.linspace(0, 1, len(Attendance)))\n",
    "\n",
    "# Create the bars\n",
    "bars = ax.bar(x=angles, height=heights, width=width, bottom=lowerlimit,\n",
    "              linewidth=1, edgecolor='white', color=colors)\n",
    "\n",
    "labelpadding = 15\n",
    "for bar, angle, height, label in zip(bars, angles, heights, Attendance[\"label\"]):\n",
    "    rotation = np.rad2deg(angle)\n",
    "    alignment = \"\"\n",
    "\n",
    "    # Adjust text alignment and rotation based on angle\n",
    "    if angle > np.pi/2 and angle < 3*np.pi/2:\n",
    "        alignment = \"right\"\n",
    "        rotation = rotation + 180\n",
    "    else:\n",
    "        alignment = \"left\"\n",
    "\n",
    "    # Add text labels to the bars\n",
    "    ax.text(x=angle, y=lowerlimit + bar.get_height() + labelpadding,\n",
    "            s=label, ha=alignment, va='center', rotation=rotation,\n",
    "            multialignment='center', fontdict=fontlabels)\n",
    "\n",
    "# Remove the theta grid (angle lines)\n",
    "ax.set_xticks([])\n",
    "\n",
    "# Set radial grid label position\n",
    "ax.set_rlabel_position(-14)\n",
    "\n",
    "# Add title\n",
    "ax.set_title(\"Attendance per Squad and Country\", \n",
    "             fontdict={'fontsize': 26, 'fontfamily': 'Impact'}, \n",
    "             loc='center')\n",
    "\n",
    "# Show the plot\n",
    "plt.show()\n"
   ]
  },
  {
   "cell_type": "markdown",
   "metadata": {},
   "source": [
    "Visualization of the W, D and L matches for the best five squads in each league"
   ]
  },
  {
   "cell_type": "code",
   "execution_count": 32,
   "metadata": {},
   "outputs": [
    {
     "data": {
      "text/html": [
       "<div>\n",
       "<style scoped>\n",
       "    .dataframe tbody tr th:only-of-type {\n",
       "        vertical-align: middle;\n",
       "    }\n",
       "\n",
       "    .dataframe tbody tr th {\n",
       "        vertical-align: top;\n",
       "    }\n",
       "\n",
       "    .dataframe thead th {\n",
       "        text-align: right;\n",
       "    }\n",
       "</style>\n",
       "<table border=\"1\" class=\"dataframe\">\n",
       "  <thead>\n",
       "    <tr style=\"text-align: right;\">\n",
       "      <th></th>\n",
       "      <th>Country</th>\n",
       "      <th>Squad</th>\n",
       "      <th>W</th>\n",
       "      <th>L</th>\n",
       "      <th>D</th>\n",
       "      <th>label</th>\n",
       "    </tr>\n",
       "  </thead>\n",
       "  <tbody>\n",
       "    <tr>\n",
       "      <th>2</th>\n",
       "      <td>FRA</td>\n",
       "      <td>Paris S-G</td>\n",
       "      <td>24</td>\n",
       "      <td>5</td>\n",
       "      <td>3</td>\n",
       "      <td>Paris S-G - FRA</td>\n",
       "    </tr>\n",
       "    <tr>\n",
       "      <th>1</th>\n",
       "      <td>ITA</td>\n",
       "      <td>Napoli</td>\n",
       "      <td>24</td>\n",
       "      <td>3</td>\n",
       "      <td>3</td>\n",
       "      <td>Napoli - ITA</td>\n",
       "    </tr>\n",
       "    <tr>\n",
       "      <th>0</th>\n",
       "      <td>ESP</td>\n",
       "      <td>Barcelona</td>\n",
       "      <td>23</td>\n",
       "      <td>2</td>\n",
       "      <td>4</td>\n",
       "      <td>Barcelona - ESP</td>\n",
       "    </tr>\n",
       "    <tr>\n",
       "      <th>3</th>\n",
       "      <td>ENG</td>\n",
       "      <td>Arsenal</td>\n",
       "      <td>23</td>\n",
       "      <td>3</td>\n",
       "      <td>6</td>\n",
       "      <td>Arsenal - ENG</td>\n",
       "    </tr>\n",
       "    <tr>\n",
       "      <th>4</th>\n",
       "      <td>ENG</td>\n",
       "      <td>Manchester City</td>\n",
       "      <td>22</td>\n",
       "      <td>4</td>\n",
       "      <td>4</td>\n",
       "      <td>Manchester City - ENG</td>\n",
       "    </tr>\n",
       "  </tbody>\n",
       "</table>\n",
       "</div>"
      ],
      "text/plain": [
       "  Country            Squad   W  L  D                  label\n",
       "2     FRA        Paris S-G  24  5  3        Paris S-G - FRA\n",
       "1     ITA           Napoli  24  3  3           Napoli - ITA\n",
       "0     ESP        Barcelona  23  2  4        Barcelona - ESP\n",
       "3     ENG          Arsenal  23  3  6          Arsenal - ENG\n",
       "4     ENG  Manchester City  22  4  4  Manchester City - ENG"
      ]
     },
     "execution_count": 32,
     "metadata": {},
     "output_type": "execute_result"
    }
   ],
   "source": [
    "# Create an empty list to store the top 5 squads for each country\n",
    "top_squads = []\n",
    "countries = data[\"Country\"].unique()  # Get unique countries\n",
    "\n",
    "# Iterate over each country and get the top 5 squads based on wins (W)\n",
    "for country in countries: \n",
    "    top_5_squads = data[data[\"Country\"] == country].sort_values(\"W\", ascending=False)[:5]\n",
    "    top_squads.append(top_5_squads)\n",
    "\n",
    "# Concatenate the list of DataFrames into one DataFrame\n",
    "match = pd.concat(top_squads)\n",
    "\n",
    "# Sort the resulting DataFrame by the 'W' column in descending order\n",
    "match = match.sort_values(by=\"W\", ascending=False)\n",
    "\n",
    "# Create the 'label' column by combining 'Squad' and 'Country'\n",
    "match[\"label\"] = match[[\"Squad\", \"Country\"]].agg(' - '.join, axis=1)\n",
    "\n",
    "# Select only the necessary columns: Country, Squad, W, L, D, and label\n",
    "subset_match = match[[\"Country\", \"Squad\", \"W\", \"L\", \"D\", \"label\"]]\n",
    "\n",
    "# Display the subset\n",
    "subset_match.head()\n",
    "\n"
   ]
  },
  {
   "cell_type": "code",
   "execution_count": 33,
   "metadata": {},
   "outputs": [
    {
     "name": "stderr",
     "output_type": "stream",
     "text": [
      "findfont: Font family 'Microsoft Tai Le' not found.\n",
      "findfont: Font family 'Microsoft Tai Le' not found.\n",
      "findfont: Font family 'Microsoft Tai Le' not found.\n",
      "findfont: Font family 'Microsoft Tai Le' not found.\n",
      "findfont: Font family 'Microsoft Tai Le' not found.\n",
      "findfont: Font family 'Microsoft Tai Le' not found.\n",
      "findfont: Font family 'Microsoft Tai Le' not found.\n",
      "findfont: Font family 'Microsoft Tai Le' not found.\n",
      "findfont: Font family 'Microsoft Tai Le' not found.\n",
      "findfont: Font family 'Microsoft Tai Le' not found.\n",
      "findfont: Font family 'Microsoft Tai Le' not found.\n",
      "findfont: Font family 'Microsoft Tai Le' not found.\n",
      "findfont: Font family 'Microsoft Tai Le' not found.\n",
      "findfont: Font family 'Microsoft Tai Le' not found.\n",
      "findfont: Font family 'Microsoft Tai Le' not found.\n",
      "findfont: Font family 'Microsoft Tai Le' not found.\n",
      "findfont: Font family 'Microsoft Tai Le' not found.\n",
      "findfont: Font family 'Microsoft Tai Le' not found.\n",
      "findfont: Font family 'Microsoft Tai Le' not found.\n",
      "findfont: Font family 'Microsoft Tai Le' not found.\n",
      "findfont: Font family 'Microsoft Tai Le' not found.\n",
      "findfont: Font family 'Microsoft Tai Le' not found.\n",
      "findfont: Font family 'Microsoft Tai Le' not found.\n",
      "findfont: Font family 'Microsoft Tai Le' not found.\n",
      "findfont: Font family 'Microsoft Tai Le' not found.\n",
      "findfont: Font family 'Microsoft Tai Le' not found.\n",
      "findfont: Font family 'Microsoft Tai Le' not found.\n",
      "findfont: Font family 'Microsoft Tai Le' not found.\n",
      "findfont: Font family 'Microsoft Tai Le' not found.\n",
      "findfont: Font family 'Microsoft Tai Le' not found.\n",
      "findfont: Font family 'Microsoft Tai Le' not found.\n",
      "findfont: Font family 'Microsoft Tai Le' not found.\n",
      "findfont: Font family 'Microsoft Tai Le' not found.\n",
      "findfont: Font family 'Microsoft Tai Le' not found.\n",
      "findfont: Font family 'Microsoft Tai Le' not found.\n",
      "findfont: Font family 'Microsoft Tai Le' not found.\n",
      "findfont: Font family 'Microsoft Tai Le' not found.\n",
      "findfont: Font family 'Microsoft Tai Le' not found.\n",
      "findfont: Font family 'Microsoft Tai Le' not found.\n",
      "findfont: Font family 'Microsoft Tai Le' not found.\n",
      "findfont: Font family 'Microsoft Tai Le' not found.\n",
      "findfont: Font family 'Microsoft Tai Le' not found.\n",
      "findfont: Font family 'Microsoft Tai Le' not found.\n",
      "findfont: Font family 'Microsoft Tai Le' not found.\n",
      "findfont: Font family 'Microsoft Tai Le' not found.\n",
      "findfont: Font family 'Microsoft Tai Le' not found.\n",
      "findfont: Font family 'Microsoft Tai Le' not found.\n",
      "findfont: Font family 'Microsoft Tai Le' not found.\n",
      "findfont: Font family 'Microsoft Tai Le' not found.\n",
      "findfont: Font family 'Microsoft Tai Le' not found.\n",
      "findfont: Font family 'Microsoft Tai Le' not found.\n",
      "findfont: Font family 'Microsoft Tai Le' not found.\n",
      "findfont: Font family 'Microsoft Tai Le' not found.\n",
      "findfont: Font family 'Microsoft Tai Le' not found.\n",
      "findfont: Font family 'Microsoft Tai Le' not found.\n",
      "findfont: Font family 'Microsoft Tai Le' not found.\n",
      "findfont: Font family 'Microsoft Tai Le' not found.\n",
      "findfont: Font family 'Microsoft Tai Le' not found.\n",
      "findfont: Font family 'Microsoft Tai Le' not found.\n",
      "findfont: Font family 'Microsoft Tai Le' not found.\n",
      "findfont: Font family 'Microsoft Tai Le' not found.\n",
      "findfont: Font family 'Microsoft Tai Le' not found.\n",
      "findfont: Font family 'Microsoft Tai Le' not found.\n",
      "findfont: Font family 'Microsoft Tai Le' not found.\n",
      "findfont: Font family 'Microsoft Tai Le' not found.\n",
      "findfont: Font family 'Microsoft Tai Le' not found.\n",
      "findfont: Font family 'Microsoft Tai Le' not found.\n",
      "findfont: Font family 'Microsoft Tai Le' not found.\n",
      "findfont: Font family 'Microsoft Tai Le' not found.\n",
      "findfont: Font family 'Microsoft Tai Le' not found.\n",
      "findfont: Font family 'Microsoft Tai Le' not found.\n",
      "findfont: Font family 'Microsoft Tai Le' not found.\n",
      "findfont: Font family 'Microsoft Tai Le' not found.\n",
      "findfont: Font family 'Microsoft Tai Le' not found.\n",
      "findfont: Font family 'Microsoft Tai Le' not found.\n",
      "findfont: Font family 'Microsoft Tai Le' not found.\n",
      "findfont: Font family 'Microsoft Tai Le' not found.\n",
      "findfont: Font family 'Microsoft Tai Le' not found.\n",
      "findfont: Font family 'Microsoft Tai Le' not found.\n",
      "findfont: Font family 'Microsoft Tai Le' not found.\n",
      "findfont: Font family 'Microsoft Tai Le' not found.\n",
      "findfont: Font family 'Microsoft Tai Le' not found.\n"
     ]
    },
    {
     "data": {
      "image/png": "[encoded data removed]",
      "text/plain": [
       "<Figure size 1200x800 with 1 Axes>"
      ]
     },
     "metadata": {},
     "output_type": "display_data"
    }
   ],
   "source": [
    "# Data subset with the relevant columns\n",
    "subset_match = match[[\"label\", \"W\", \"L\", \"D\"]]\n",
    "subset_match = subset_match.sort_values(by=\"W\", ascending=True)\n",
    "\n",
    "# Extract labels and values\n",
    "labels = subset_match[\"label\"]\n",
    "W = subset_match[\"W\"]\n",
    "L = subset_match[\"L\"]\n",
    "D = subset_match[\"D\"]\n",
    "\n",
    "# Set y positions and bar height\n",
    "y_pos = np.arange(len(labels))\n",
    "\n",
    "# Create figure and axis\n",
    "fig, ax = plt.subplots(figsize=(12, 8))\n",
    "\n",
    "# Plot stacked horizontal bars for W, L, and D\n",
    "bars1 = ax.barh(y_pos, W, color='#46986a', label='Wins')   # Wins\n",
    "bars2 = ax.barh(y_pos, L, left=W, color='#ff5252', label='Losses')  # Losses stacked on Wins\n",
    "bars3 = ax.barh(y_pos, D, left=W+L, color='#ffff66', label='Draws') # Draws stacked on Wins + Losses\n",
    "\n",
    "# Add labels to x and y axis\n",
    "ax.set_xlabel('Number of Matches', fontsize=16, family='Microsoft Tai Le')\n",
    "\n",
    "# Adjust title: Align it to the left and move its position slightly\n",
    "ax.set_title('Win, Loss, and Draw Matches', fontsize=24, family='Impact', loc='left', x=-0.1)\n",
    "\n",
    "# Add y-ticks with squad labels\n",
    "ax.set_yticks(y_pos)\n",
    "ax.set_yticklabels(labels, fontsize=10, family='Microsoft Tai Le')\n",
    "\n",
    "# Customizing legend\n",
    "ax.legend(title='', loc='upper center', bbox_to_anchor=(0.8, 1.1), ncol=3, fontsize=14, frameon=False)\n",
    "\n",
    "# Adjust spacing between plot and other elements\n",
    "plt.subplots_adjust(top=0.85, bottom=0.1, left=0.15, right=0.9)\n",
    "\n",
    "# Set background color and layout\n",
    "fig.patch.set_facecolor('aliceblue')\n",
    "ax.set_facecolor('aliceblue')\n",
    "\n",
    "# Display the plot\n",
    "plt.tight_layout()\n",
    "plt.show()\n"
   ]
  },
  {
   "cell_type": "markdown",
   "metadata": {},
   "source": [
    "GF, GA and GD"
   ]
  },
  {
   "cell_type": "code",
   "execution_count": 34,
   "metadata": {},
   "outputs": [],
   "source": [
    "# Step 1: Filter relevant columns\n",
    "goals_df = data[[\"Squad\", \"Country\", \"GF\", \"GA\", \"GD\"]]\n",
    "\n",
    "# Step 2: Initialize an empty list to store results\n",
    "filtered_goals = []\n",
    "\n",
    "# Step 3: Iterate over the countries and filter top 5 squads by goals scored (GF)\n",
    "for i in countries: \n",
    "    top_squads = goals_df[goals_df[\"Country\"] == i].sort_values(by='GF', ascending=False).head(5)\n",
    "    filtered_goals.append(top_squads)\n",
    "\n",
    "# Step 4: Concatenate the filtered results into a single DataFrame\n",
    "goals = pd.concat(filtered_goals, ignore_index=True)\n"
   ]
  },
  {
   "cell_type": "code",
   "execution_count": 35,
   "metadata": {},
   "outputs": [],
   "source": [
    "goals[\"label\"] = goals[[\"Squad\", \"Country\"]].agg(' - '.join, axis=1) #create label"
   ]
  },
  {
   "cell_type": "code",
   "execution_count": 36,
   "metadata": {},
   "outputs": [
    {
     "data": {
      "application/vnd.plotly.v1+json": {
       "config": {
        "plotlyServerURL": "https://plot.ly"
       },
       "data": [
        {
         "marker": {
          "color": [
           "#ebf3ed",
           "#e4eee7",
           "#dbeae1",
           "#d3e6da",
           "#cce2d4",
           "#c4ddce",
           "#bcd9c8",
           "#b4d5c2",
           "#acd0bb",
           "#a4ccb5",
           "#9cc8af",
           "#94c3a8",
           "#8cbfa2",
           "#85bb9c",
           "#7db695",
           "#74b28f",
           "#6dae89",
           "#65a983",
           "#5da57c",
           "#55a176",
           "#4d9c70",
           "#459869",
           "#3e9463",
           "#358f5d",
           "#2e8b57"
          ],
          "line": {
           "color": "black",
           "width": 0.15
          }
         },
         "name": "GF",
         "orientation": "h",
         "text": [
          "42",
          "44",
          "47",
          "48",
          "48",
          "49",
          "49",
          "51",
          "51",
          "53",
          "53",
          "54",
          "54",
          "57",
          "57",
          "57",
          "59",
          "63",
          "66",
          "66",
          "66",
          "75",
          "77",
          "78",
          "79"
         ],
         "textposition": "outside",
         "type": "bar",
         "x": [
          42,
          44,
          47,
          48,
          48,
          49,
          49,
          51,
          51,
          53,
          53,
          54,
          54,
          57,
          57,
          57,
          59,
          63,
          66,
          66,
          66,
          75,
          77,
          78,
          79
         ],
         "xaxis": "x",
         "y": [
          "Athletic Club - ESP",
          "Girona - ESP",
          "Atlético Madrid - ESP",
          "Inter - ITA",
          "Atalanta - ITA",
          "Lazio - ITA",
          "Milan - ITA",
          "Wolfsburg - GER",
          "Leverkusen - GER",
          "Barcelona - ESP",
          "RB Leipzig - GER",
          "Brighton - ENG",
          "Lens - FRA",
          "Tottenham - ENG",
          "Marseille - FRA",
          "Lille - FRA",
          "Liverpool - ENG",
          "Real Madrid - ESP",
          "Monaco - FRA",
          "Dortmund - GER",
          "Napoli - ITA",
          "Paris S-G - FRA",
          "Arsenal - ENG",
          "Manchester City - ENG",
          "Bayern Munich - GER"
         ],
         "yaxis": "y"
        },
        {
         "marker": {
          "color": [
           "#f2f0f0",
           "#f0eaea",
           "#eee3e3",
           "#ecdcdc",
           "#ead6d6",
           "#e8cfcf",
           "#e6c8c9",
           "#e5c1c2",
           "#e3babc",
           "#e1b3b5",
           "#dfadae",
           "#dda6a8",
           "#db9fa1",
           "#d9989b",
           "#d79194",
           "#d58a8d",
           "#d38487",
           "#d17d80",
           "#cf7679",
           "#ce7073",
           "#cc696c",
           "#ca6265",
           "#c85b5f",
           "#c65458",
           "#c44e52"
          ],
          "line": {
           "color": "black",
           "width": 0.15
          }
         },
         "name": "GA",
         "orientation": "h",
         "text": [
          "30",
          "43",
          "21",
          "34",
          "35",
          "21",
          "37",
          "37",
          "41",
          "9",
          "35",
          "37",
          "25",
          "45",
          "30",
          "40",
          "38",
          "24",
          "46",
          "39",
          "21",
          "31",
          "34",
          "28",
          "33"
         ],
         "textposition": "outside",
         "type": "bar",
         "x": [
          30,
          43,
          21,
          34,
          35,
          21,
          37,
          37,
          41,
          9,
          35,
          37,
          25,
          45,
          30,
          40,
          38,
          24,
          46,
          39,
          21,
          31,
          34,
          28,
          33
         ],
         "xaxis": "x2",
         "y": [
          "Athletic Club - ESP",
          "Girona - ESP",
          "Atlético Madrid - ESP",
          "Inter - ITA",
          "Atalanta - ITA",
          "Lazio - ITA",
          "Milan - ITA",
          "Wolfsburg - GER",
          "Leverkusen - GER",
          "Barcelona - ESP",
          "RB Leipzig - GER",
          "Brighton - ENG",
          "Lens - FRA",
          "Tottenham - ENG",
          "Marseille - FRA",
          "Lille - FRA",
          "Liverpool - ENG",
          "Real Madrid - ESP",
          "Monaco - FRA",
          "Dortmund - GER",
          "Napoli - ITA",
          "Paris S-G - FRA",
          "Arsenal - ENG",
          "Manchester City - ENG",
          "Bayern Munich - GER"
         ],
         "yaxis": "y2"
        },
        {
         "marker": {
          "color": [
           "#f2f1ed",
           "#f1eee8",
           "#efece3",
           "#edeade",
           "#ece7d9",
           "#eae5d4",
           "#e8e3ce",
           "#e7e0ca",
           "#e5dec4",
           "#e4dcbf",
           "#e2d9ba",
           "#e1d7b5",
           "#dfd5b0",
           "#ddd2ab",
           "#dcd0a6",
           "#dacea1",
           "#d9cc9c",
           "#d7c997",
           "#d5c792",
           "#d4c58d",
           "#d2c288",
           "#d1c083",
           "#cfbe7e",
           "#cdbb79",
           "#ccb974"
          ],
          "line": {
           "color": "black",
           "width": 0.15
          }
         },
         "name": "GD",
         "orientation": "h",
         "text": [
          "12",
          "1",
          "26",
          "14",
          "13",
          "28",
          "12",
          "14",
          "10",
          "44",
          "18",
          "17",
          "29",
          "12",
          "27",
          "17",
          "21",
          "39",
          "20",
          "27",
          "45",
          "44",
          "43",
          "50",
          "46"
         ],
         "textposition": "outside",
         "type": "bar",
         "x": [
          12,
          1,
          26,
          14,
          13,
          28,
          12,
          14,
          10,
          44,
          18,
          17,
          29,
          12,
          27,
          17,
          21,
          39,
          20,
          27,
          45,
          44,
          43,
          50,
          46
         ],
         "xaxis": "x3",
         "y": [
          "Athletic Club - ESP",
          "Girona - ESP",
          "Atlético Madrid - ESP",
          "Inter - ITA",
          "Atalanta - ITA",
          "Lazio - ITA",
          "Milan - ITA",
          "Wolfsburg - GER",
          "Leverkusen - GER",
          "Barcelona - ESP",
          "RB Leipzig - GER",
          "Brighton - ENG",
          "Lens - FRA",
          "Tottenham - ENG",
          "Marseille - FRA",
          "Lille - FRA",
          "Liverpool - ENG",
          "Real Madrid - ESP",
          "Monaco - FRA",
          "Dortmund - GER",
          "Napoli - ITA",
          "Paris S-G - FRA",
          "Arsenal - ENG",
          "Manchester City - ENG",
          "Bayern Munich - GER"
         ],
         "yaxis": "y3"
        }
       ],
       "layout": {
        "height": 600,
        "showlegend": false,
        "template": {
         "data": {
          "bar": [
           {
            "error_x": {
             "color": "rgb(36,36,36)"
            },
            "error_y": {
             "color": "rgb(36,36,36)"
            },
            "marker": {
             "line": {
              "color": "white",
              "width": 0.5
             },
             "pattern": {
              "fillmode": "overlay",
              "size": 10,
              "solidity": 0.2
             }
            },
            "type": "bar"
           }
          ],
          "barpolar": [
           {
            "marker": {
             "line": {
              "color": "white",
              "width": 0.5
             },
             "pattern": {
              "fillmode": "overlay",
              "size": 10,
              "solidity": 0.2
             }
            },
            "type": "barpolar"
           }
          ],
          "carpet": [
           {
            "aaxis": {
             "endlinecolor": "rgb(36,36,36)",
             "gridcolor": "white",
             "linecolor": "white",
             "minorgridcolor": "white",
             "startlinecolor": "rgb(36,36,36)"
            },
            "baxis": {
             "endlinecolor": "rgb(36,36,36)",
             "gridcolor": "white",
             "linecolor": "white",
             "minorgridcolor": "white",
             "startlinecolor": "rgb(36,36,36)"
            },
            "type": "carpet"
           }
          ],
          "choropleth": [
           {
            "colorbar": {
             "outlinewidth": 1,
             "tickcolor": "rgb(36,36,36)",
             "ticks": "outside"
            },
            "type": "choropleth"
           }
          ],
          "contour": [
           {
            "colorbar": {
             "outlinewidth": 1,
             "tickcolor": "rgb(36,36,36)",
             "ticks": "outside"
            },
            "colorscale": [
             [
              0,
              "#440154"
             ],
             [
              0.1111111111111111,
              "#482878"
             ],
             [
              0.2222222222222222,
              "#3e4989"
             ],
             [
              0.3333333333333333,
              "#31688e"
             ],
             [
              0.4444444444444444,
              "#26828e"
             ],
             [
              0.5555555555555556,
              "#1f9e89"
             ],
             [
              0.6666666666666666,
              "#35b779"
             ],
             [
              0.7777777777777778,
              "#6ece58"
             ],
             [
              0.8888888888888888,
              "#b5de2b"
             ],
             [
              1,
              "#fde725"
             ]
            ],
            "type": "contour"
           }
          ],
          "contourcarpet": [
           {
            "colorbar": {
             "outlinewidth": 1,
             "tickcolor": "rgb(36,36,36)",
             "ticks": "outside"
            },
            "type": "contourcarpet"
           }
          ],
          "heatmap": [
           {
            "colorbar": {
             "outlinewidth": 1,
             "tickcolor": "rgb(36,36,36)",
             "ticks": "outside"
            },
            "colorscale": [
             [
              0,
              "#440154"
             ],
             [
              0.1111111111111111,
              "#482878"
             ],
             [
              0.2222222222222222,
              "#3e4989"
             ],
             [
              0.3333333333333333,
              "#31688e"
             ],
             [
              0.4444444444444444,
              "#26828e"
             ],
             [
              0.5555555555555556,
              "#1f9e89"
             ],
             [
              0.6666666666666666,
              "#35b779"
             ],
             [
              0.7777777777777778,
              "#6ece58"
             ],
             [
              0.8888888888888888,
              "#b5de2b"
             ],
             [
              1,
              "#fde725"
             ]
            ],
            "type": "heatmap"
           }
          ],
          "heatmapgl": [
           {
            "colorbar": {
             "outlinewidth": 1,
             "tickcolor": "rgb(36,36,36)",
             "ticks": "outside"
            },
            "colorscale": [
             [
              0,
              "#440154"
             ],
             [
              0.1111111111111111,
              "#482878"
             ],
             [
              0.2222222222222222,
              "#3e4989"
             ],
             [
              0.3333333333333333,
              "#31688e"
             ],
             [
              0.4444444444444444,
              "#26828e"
             ],
             [
              0.5555555555555556,
              "#1f9e89"
             ],
             [
              0.6666666666666666,
              "#35b779"
             ],
             [
              0.7777777777777778,
              "#6ece58"
             ],
             [
              0.8888888888888888,
              "#b5de2b"
             ],
             [
              1,
              "#fde725"
             ]
            ],
            "type": "heatmapgl"
           }
          ],
          "histogram": [
           {
            "marker": {
             "line": {
              "color": "white",
              "width": 0.6
             }
            },
            "type": "histogram"
           }
          ],
          "histogram2d": [
           {
            "colorbar": {
             "outlinewidth": 1,
             "tickcolor": "rgb(36,36,36)",
             "ticks": "outside"
            },
            "colorscale": [
             [
              0,
              "#440154"
             ],
             [
              0.1111111111111111,
              "#482878"
             ],
             [
              0.2222222222222222,
              "#3e4989"
             ],
             [
              0.3333333333333333,
              "#31688e"
             ],
             [
              0.4444444444444444,
              "#26828e"
             ],
             [
              0.5555555555555556,
              "#1f9e89"
             ],
             [
              0.6666666666666666,
              "#35b779"
             ],
             [
              0.7777777777777778,
              "#6ece58"
             ],
             [
              0.8888888888888888,
              "#b5de2b"
             ],
             [
              1,
              "#fde725"
             ]
            ],
            "type": "histogram2d"
           }
          ],
          "histogram2dcontour": [
           {
            "colorbar": {
             "outlinewidth": 1,
             "tickcolor": "rgb(36,36,36)",
             "ticks": "outside"
            },
            "colorscale": [
             [
              0,
              "#440154"
             ],
             [
              0.1111111111111111,
              "#482878"
             ],
             [
              0.2222222222222222,
              "#3e4989"
             ],
             [
              0.3333333333333333,
              "#31688e"
             ],
             [
              0.4444444444444444,
              "#26828e"
             ],
             [
              0.5555555555555556,
              "#1f9e89"
             ],
             [
              0.6666666666666666,
              "#35b779"
             ],
             [
              0.7777777777777778,
              "#6ece58"
             ],
             [
              0.8888888888888888,
              "#b5de2b"
             ],
             [
              1,
              "#fde725"
             ]
            ],
            "type": "histogram2dcontour"
           }
          ],
          "mesh3d": [
           {
            "colorbar": {
             "outlinewidth": 1,
             "tickcolor": "rgb(36,36,36)",
             "ticks": "outside"
            },
            "type": "mesh3d"
           }
          ],
          "parcoords": [
           {
            "line": {
             "colorbar": {
              "outlinewidth": 1,
              "tickcolor": "rgb(36,36,36)",
              "ticks": "outside"
             }
            },
            "type": "parcoords"
           }
          ],
          "pie": [
           {
            "automargin": true,
            "type": "pie"
           }
          ],
          "scatter": [
           {
            "fillpattern": {
             "fillmode": "overlay",
             "size": 10,
             "solidity": 0.2
            },
            "type": "scatter"
           }
          ],
          "scatter3d": [
           {
            "line": {
             "colorbar": {
              "outlinewidth": 1,
              "tickcolor": "rgb(36,36,36)",
              "ticks": "outside"
             }
            },
            "marker": {
             "colorbar": {
              "outlinewidth": 1,
              "tickcolor": "rgb(36,36,36)",
              "ticks": "outside"
             }
            },
            "type": "scatter3d"
           }
          ],
          "scattercarpet": [
           {
            "marker": {
             "colorbar": {
              "outlinewidth": 1,
              "tickcolor": "rgb(36,36,36)",
              "ticks": "outside"
             }
            },
            "type": "scattercarpet"
           }
          ],
          "scattergeo": [
           {
            "marker": {
             "colorbar": {
              "outlinewidth": 1,
              "tickcolor": "rgb(36,36,36)",
              "ticks": "outside"
             }
            },
            "type": "scattergeo"
           }
          ],
          "scattergl": [
           {
            "marker": {
             "colorbar": {
              "outlinewidth": 1,
              "tickcolor": "rgb(36,36,36)",
              "ticks": "outside"
             }
            },
            "type": "scattergl"
           }
          ],
          "scattermapbox": [
           {
            "marker": {
             "colorbar": {
              "outlinewidth": 1,
              "tickcolor": "rgb(36,36,36)",
              "ticks": "outside"
             }
            },
            "type": "scattermapbox"
           }
          ],
          "scatterpolar": [
           {
            "marker": {
             "colorbar": {
              "outlinewidth": 1,
              "tickcolor": "rgb(36,36,36)",
              "ticks": "outside"
             }
            },
            "type": "scatterpolar"
           }
          ],
          "scatterpolargl": [
           {
            "marker": {
             "colorbar": {
              "outlinewidth": 1,
              "tickcolor": "rgb(36,36,36)",
              "ticks": "outside"
             }
            },
            "type": "scatterpolargl"
           }
          ],
          "scatterternary": [
           {
            "marker": {
             "colorbar": {
              "outlinewidth": 1,
              "tickcolor": "rgb(36,36,36)",
              "ticks": "outside"
             }
            },
            "type": "scatterternary"
           }
          ],
          "surface": [
           {
            "colorbar": {
             "outlinewidth": 1,
             "tickcolor": "rgb(36,36,36)",
             "ticks": "outside"
            },
            "colorscale": [
             [
              0,
              "#440154"
             ],
             [
              0.1111111111111111,
              "#482878"
             ],
             [
              0.2222222222222222,
              "#3e4989"
             ],
             [
              0.3333333333333333,
              "#31688e"
             ],
             [
              0.4444444444444444,
              "#26828e"
             ],
             [
              0.5555555555555556,
              "#1f9e89"
             ],
             [
              0.6666666666666666,
              "#35b779"
             ],
             [
              0.7777777777777778,
              "#6ece58"
             ],
             [
              0.8888888888888888,
              "#b5de2b"
             ],
             [
              1,
              "#fde725"
             ]
            ],
            "type": "surface"
           }
          ],
          "table": [
           {
            "cells": {
             "fill": {
              "color": "rgb(237,237,237)"
             },
             "line": {
              "color": "white"
             }
            },
            "header": {
             "fill": {
              "color": "rgb(217,217,217)"
             },
             "line": {
              "color": "white"
             }
            },
            "type": "table"
           }
          ]
         },
         "layout": {
          "annotationdefaults": {
           "arrowhead": 0,
           "arrowwidth": 1
          },
          "autotypenumbers": "strict",
          "coloraxis": {
           "colorbar": {
            "outlinewidth": 1,
            "tickcolor": "rgb(36,36,36)",
            "ticks": "outside"
           }
          },
          "colorscale": {
           "diverging": [
            [
             0,
             "rgb(103,0,31)"
            ],
            [
             0.1,
             "rgb(178,24,43)"
            ],
            [
             0.2,
             "rgb(214,96,77)"
            ],
            [
             0.3,
             "rgb(244,165,130)"
            ],
            [
             0.4,
             "rgb(253,219,199)"
            ],
            [
             0.5,
             "rgb(247,247,247)"
            ],
            [
             0.6,
             "rgb(209,229,240)"
            ],
            [
             0.7,
             "rgb(146,197,222)"
            ],
            [
             0.8,
             "rgb(67,147,195)"
            ],
            [
             0.9,
             "rgb(33,102,172)"
            ],
            [
             1,
             "rgb(5,48,97)"
            ]
           ],
           "sequential": [
            [
             0,
             "#440154"
            ],
            [
             0.1111111111111111,
             "#482878"
            ],
            [
             0.2222222222222222,
             "#3e4989"
            ],
            [
             0.3333333333333333,
             "#31688e"
            ],
            [
             0.4444444444444444,
             "#26828e"
            ],
            [
             0.5555555555555556,
             "#1f9e89"
            ],
            [
             0.6666666666666666,
             "#35b779"
            ],
            [
             0.7777777777777778,
             "#6ece58"
            ],
            [
             0.8888888888888888,
             "#b5de2b"
            ],
            [
             1,
             "#fde725"
            ]
           ],
           "sequentialminus": [
            [
             0,
             "#440154"
            ],
            [
             0.1111111111111111,
             "#482878"
            ],
            [
             0.2222222222222222,
             "#3e4989"
            ],
            [
             0.3333333333333333,
             "#31688e"
            ],
            [
             0.4444444444444444,
             "#26828e"
            ],
            [
             0.5555555555555556,
             "#1f9e89"
            ],
            [
             0.6666666666666666,
             "#35b779"
            ],
            [
             0.7777777777777778,
             "#6ece58"
            ],
            [
             0.8888888888888888,
             "#b5de2b"
            ],
            [
             1,
             "#fde725"
            ]
           ]
          },
          "colorway": [
           "#1F77B4",
           "#FF7F0E",
           "#2CA02C",
           "#D62728",
           "#9467BD",
           "#8C564B",
           "#E377C2",
           "#7F7F7F",
           "#BCBD22",
           "#17BECF"
          ],
          "font": {
           "color": "rgb(36,36,36)"
          },
          "geo": {
           "bgcolor": "white",
           "lakecolor": "white",
           "landcolor": "white",
           "showlakes": true,
           "showland": true,
           "subunitcolor": "white"
          },
          "hoverlabel": {
           "align": "left"
          },
          "hovermode": "closest",
          "mapbox": {
           "style": "light"
          },
          "paper_bgcolor": "white",
          "plot_bgcolor": "white",
          "polar": {
           "angularaxis": {
            "gridcolor": "rgb(232,232,232)",
            "linecolor": "rgb(36,36,36)",
            "showgrid": false,
            "showline": true,
            "ticks": "outside"
           },
           "bgcolor": "white",
           "radialaxis": {
            "gridcolor": "rgb(232,232,232)",
            "linecolor": "rgb(36,36,36)",
            "showgrid": false,
            "showline": true,
            "ticks": "outside"
           }
          },
          "scene": {
           "xaxis": {
            "backgroundcolor": "white",
            "gridcolor": "rgb(232,232,232)",
            "gridwidth": 2,
            "linecolor": "rgb(36,36,36)",
            "showbackground": true,
            "showgrid": false,
            "showline": true,
            "ticks": "outside",
            "zeroline": false,
            "zerolinecolor": "rgb(36,36,36)"
           },
           "yaxis": {
            "backgroundcolor": "white",
            "gridcolor": "rgb(232,232,232)",
            "gridwidth": 2,
            "linecolor": "rgb(36,36,36)",
            "showbackground": true,
            "showgrid": false,
            "showline": true,
            "ticks": "outside",
            "zeroline": false,
            "zerolinecolor": "rgb(36,36,36)"
           },
           "zaxis": {
            "backgroundcolor": "white",
            "gridcolor": "rgb(232,232,232)",
            "gridwidth": 2,
            "linecolor": "rgb(36,36,36)",
            "showbackground": true,
            "showgrid": false,
            "showline": true,
            "ticks": "outside",
            "zeroline": false,
            "zerolinecolor": "rgb(36,36,36)"
           }
          },
          "shapedefaults": {
           "fillcolor": "black",
           "line": {
            "width": 0
           },
           "opacity": 0.3
          },
          "ternary": {
           "aaxis": {
            "gridcolor": "rgb(232,232,232)",
            "linecolor": "rgb(36,36,36)",
            "showgrid": false,
            "showline": true,
            "ticks": "outside"
           },
           "baxis": {
            "gridcolor": "rgb(232,232,232)",
            "linecolor": "rgb(36,36,36)",
            "showgrid": false,
            "showline": true,
            "ticks": "outside"
           },
           "bgcolor": "white",
           "caxis": {
            "gridcolor": "rgb(232,232,232)",
            "linecolor": "rgb(36,36,36)",
            "showgrid": false,
            "showline": true,
            "ticks": "outside"
           }
          },
          "title": {
           "x": 0.05
          },
          "xaxis": {
           "automargin": true,
           "gridcolor": "rgb(232,232,232)",
           "linecolor": "rgb(36,36,36)",
           "showgrid": false,
           "showline": true,
           "ticks": "outside",
           "title": {
            "standoff": 15
           },
           "zeroline": false,
           "zerolinecolor": "rgb(36,36,36)"
          },
          "yaxis": {
           "automargin": true,
           "gridcolor": "rgb(232,232,232)",
           "linecolor": "rgb(36,36,36)",
           "showgrid": false,
           "showline": true,
           "ticks": "outside",
           "title": {
            "standoff": 15
           },
           "zeroline": false,
           "zerolinecolor": "rgb(36,36,36)"
          }
         }
        },
        "title": {
         "font": {
          "color": "black",
          "family": "Impact",
          "size": 30
         },
         "text": "Number of GF, GA and GD",
         "x": 0.1,
         "y": 0.92
        },
        "xaxis": {
         "anchor": "y",
         "domain": [
          0,
          0.2888888888888889
         ],
         "title": {
          "font": {
           "family": "Microsoft Tai Le",
           "size": 16
          },
          "text": "Number of GF"
         }
        },
        "xaxis2": {
         "anchor": "y2",
         "domain": [
          0.35555555555555557,
          0.6444444444444445
         ],
         "title": {
          "font": {
           "family": "Microsoft Tai Le",
           "size": 16
          },
          "text": "Number of GA"
         }
        },
        "xaxis3": {
         "anchor": "y3",
         "domain": [
          0.7111111111111111,
          1
         ],
         "title": {
          "font": {
           "family": "Microsoft Tai Le",
           "size": 16
          },
          "text": "Number of GD"
         }
        },
        "yaxis": {
         "anchor": "x",
         "domain": [
          0,
          1
         ]
        },
        "yaxis2": {
         "anchor": "x2",
         "domain": [
          0,
          1
         ],
         "matches": "y",
         "showticklabels": false
        },
        "yaxis3": {
         "anchor": "x3",
         "domain": [
          0,
          1
         ],
         "matches": "y",
         "showticklabels": false
        }
       }
      }
     },
     "metadata": {},
     "output_type": "display_data"
    }
   ],
   "source": [
    "import plotly.express as px #data visualization\n",
    "from plotly.subplots import make_subplots\n",
    "import plotly.graph_objects as go #data visualization\n",
    "def get_color(color_name, number_of_colors): \n",
    "    pal = list(sns.color_palette(palette=color_name, n_colors=number_of_colors).as_hex())\n",
    "    return pal\n",
    "#visualization\n",
    "goals = goals.sort_values(by=\"GF\", ascending=True)\n",
    "fig = make_subplots(rows=1, cols=3, shared_yaxes=True)\n",
    "fig.append_trace(go.Bar(x=goals[\"GF\"], y=goals[\"label\"], orientation='h', \n",
    "                        marker_color=get_color(\"light:seagreen\", len(goals)),\n",
    "                       marker_line_color='black',\n",
    "                       marker_line_width=0.15, name=\"GF\", text=[str(i) for i in list(goals[\"GF\"])], \n",
    "                       textposition='outside'), row=1,col=1)\n",
    "fig.append_trace(go.Bar(x=goals[\"GA\"], y=goals[\"label\"], orientation='h',\n",
    "                       marker_color=get_color(\"light:r\", len(goals)), \n",
    "                       marker_line_color='black', \n",
    "                       marker_line_width=0.15, name=\"GA\", text=[str(i) for i in list(goals[\"GA\"])],\n",
    "                       textposition='outside'), row=1, col=2)\n",
    "fig.append_trace(go.Bar(x=goals[\"GD\"], y=goals[\"label\"], orientation='h',\n",
    "                       marker_color=get_color(\"light:y\", len(goals)),\n",
    "                       marker_line_color='black',\n",
    "                       marker_line_width=0.15, name=\"GD\", text=[str(i) for i in list(goals[\"GD\"])],\n",
    "                       textposition='outside'), row=1, col=3)\n",
    "fig.update_layout(title={'text': 'Number of GF, GA and GD','x':0.1, 'y':0.92},\n",
    "                titlefont_size=30,\n",
    "                titlefont_family='Impact',\n",
    "                titlefont_color='black',\n",
    "                height=600,\n",
    "                template='simple_white',\n",
    "                 xaxis1=dict(title=\"Number of GF\", titlefont_size=16, titlefont_family='Microsoft Tai Le'),\n",
    "                 xaxis2=dict(title=\"Number of GA\", titlefont_size=16, titlefont_family='Microsoft Tai Le'),\n",
    "                 xaxis3=dict(title=\"Number of GD\", titlefont_size=16, titlefont_family='Microsoft Tai Le'),\n",
    "                  showlegend=False\n",
    "                 )\n",
    "#fig.show()"
   ]
  },
  {
   "cell_type": "markdown",
   "metadata": {},
   "source": [
    "The number of points per match played \"Pts/G\""
   ]
  },
  {
   "cell_type": "code",
   "execution_count": 37,
   "metadata": {},
   "outputs": [
    {
     "data": {
      "text/html": [
       "<div>\n",
       "<style scoped>\n",
       "    .dataframe tbody tr th:only-of-type {\n",
       "        vertical-align: middle;\n",
       "    }\n",
       "\n",
       "    .dataframe tbody tr th {\n",
       "        vertical-align: top;\n",
       "    }\n",
       "\n",
       "    .dataframe thead th {\n",
       "        text-align: right;\n",
       "    }\n",
       "</style>\n",
       "<table border=\"1\" class=\"dataframe\">\n",
       "  <thead>\n",
       "    <tr style=\"text-align: right;\">\n",
       "      <th></th>\n",
       "      <th>Squad</th>\n",
       "      <th>Country</th>\n",
       "      <th>Pts/MP</th>\n",
       "      <th>label</th>\n",
       "    </tr>\n",
       "  </thead>\n",
       "  <tbody>\n",
       "    <tr>\n",
       "      <th>0</th>\n",
       "      <td>Barcelona</td>\n",
       "      <td>ESP</td>\n",
       "      <td>2.52</td>\n",
       "      <td>Barcelona - ESP</td>\n",
       "    </tr>\n",
       "    <tr>\n",
       "      <th>1</th>\n",
       "      <td>Napoli</td>\n",
       "      <td>ITA</td>\n",
       "      <td>2.50</td>\n",
       "      <td>Napoli - ITA</td>\n",
       "    </tr>\n",
       "    <tr>\n",
       "      <th>2</th>\n",
       "      <td>Paris S-G</td>\n",
       "      <td>FRA</td>\n",
       "      <td>2.34</td>\n",
       "      <td>Paris S-G - FRA</td>\n",
       "    </tr>\n",
       "    <tr>\n",
       "      <th>3</th>\n",
       "      <td>Arsenal</td>\n",
       "      <td>ENG</td>\n",
       "      <td>2.34</td>\n",
       "      <td>Arsenal - ENG</td>\n",
       "    </tr>\n",
       "    <tr>\n",
       "      <th>4</th>\n",
       "      <td>Manchester City</td>\n",
       "      <td>ENG</td>\n",
       "      <td>2.33</td>\n",
       "      <td>Manchester City - ENG</td>\n",
       "    </tr>\n",
       "  </tbody>\n",
       "</table>\n",
       "</div>"
      ],
      "text/plain": [
       "             Squad Country  Pts/MP                  label\n",
       "0        Barcelona     ESP    2.52        Barcelona - ESP\n",
       "1           Napoli     ITA    2.50           Napoli - ITA\n",
       "2        Paris S-G     FRA    2.34        Paris S-G - FRA\n",
       "3          Arsenal     ENG    2.34          Arsenal - ENG\n",
       "4  Manchester City     ENG    2.33  Manchester City - ENG"
      ]
     },
     "execution_count": 37,
     "metadata": {},
     "output_type": "execute_result"
    }
   ],
   "source": [
    "pts_g = data[[\"Squad\", \"Country\", \"Pts/MP\"]][:20] #Pts/G dataframe\n",
    "pts_g[\"label\"] = pts_g[[\"Squad\", \"Country\"]].agg(' - '.join, axis=1)\n",
    "pts_g.head()"
   ]
  },
  {
   "cell_type": "code",
   "execution_count": 38,
   "metadata": {},
   "outputs": [
    {
     "data": {
      "application/vnd.plotly.v1+json": {
       "config": {
        "plotlyServerURL": "https://plot.ly"
       },
       "data": [
        {
         "customdata": [
          [
           "Barcelona - ESP"
          ],
          [
           "Napoli - ITA"
          ],
          [
           "Paris S-G - FRA"
          ],
          [
           "Arsenal - ENG"
          ],
          [
           "Manchester City - ENG"
          ],
          [
           "Real Madrid - ESP"
          ],
          [
           "Dortmund - GER"
          ],
          [
           "Atlético Madrid - ESP"
          ],
          [
           "Lens - FRA"
          ],
          [
           "Marseille - FRA"
          ],
          [
           "Bayern Munich - GER"
          ],
          [
           "Lazio - ITA"
          ],
          [
           "Juventus - ITA"
          ],
          [
           "Manchester Utd - ENG"
          ],
          [
           "Monaco - FRA"
          ],
          [
           "Newcastle Utd - ENG"
          ],
          [
           "Roma - ITA"
          ],
          [
           "Union Berlin - GER"
          ],
          [
           "RB Leipzig - GER"
          ],
          [
           "Real Sociedad - ESP"
          ]
         ],
         "domain": {
          "x": [
           0,
           1
          ],
          "y": [
           0,
           1
          ]
         },
         "hovertemplate": "label=%{customdata[0]}<br>Pts/MP=%{value}<extra></extra>",
         "labels": [
          "Barcelona - ESP",
          "Napoli - ITA",
          "Paris S-G - FRA",
          "Arsenal - ENG",
          "Manchester City - ENG",
          "Real Madrid - ESP",
          "Dortmund - GER",
          "Atlético Madrid - ESP",
          "Lens - FRA",
          "Marseille - FRA",
          "Bayern Munich - GER",
          "Lazio - ITA",
          "Juventus - ITA",
          "Manchester Utd - ENG",
          "Monaco - FRA",
          "Newcastle Utd - ENG",
          "Roma - ITA",
          "Union Berlin - GER",
          "RB Leipzig - GER",
          "Real Sociedad - ESP"
         ],
         "legendgroup": "",
         "marker": {
          "colors": [
           "#06051a",
           "#130d34",
           "#221150",
           "#36106b",
           "#4a1079",
           "#5f187f",
           "#721f81",
           "#842681",
           "#982d80",
           "#ab337c",
           "#c03a76",
           "#d3436e",
           "#e44f64",
           "#f1605d",
           "#f8765c",
           "#fc8e64",
           "#fea571",
           "#febb81",
           "#fed194",
           "#fde7a9"
          ]
         },
         "name": "",
         "showlegend": true,
         "textinfo": "label+text+value",
         "textposition": "inside",
         "type": "pie",
         "values": [
          2.52,
          2.5,
          2.34,
          2.34,
          2.33,
          2.17,
          2.07,
          2.07,
          2.06,
          2.06,
          2.03,
          1.97,
          1.97,
          1.97,
          1.91,
          1.87,
          1.87,
          1.86,
          1.82,
          1.8
         ]
        }
       ],
       "layout": {
        "height": 500,
        "legend": {
         "tracegroupgap": 0
        },
        "margin": {
         "b": 5,
         "l": 5,
         "r": 5,
         "t": 60
        },
        "piecolorway": [
         "#06051a",
         "#130d34",
         "#221150",
         "#36106b",
         "#4a1079",
         "#5f187f",
         "#721f81",
         "#842681",
         "#982d80",
         "#ab337c",
         "#c03a76",
         "#d3436e",
         "#e44f64",
         "#f1605d",
         "#f8765c",
         "#fc8e64",
         "#fea571",
         "#febb81",
         "#fed194",
         "#fde7a9"
        ],
        "showlegend": false,
        "template": {
         "data": {
          "bar": [
           {
            "error_x": {
             "color": "#2a3f5f"
            },
            "error_y": {
             "color": "#2a3f5f"
            },
            "marker": {
             "line": {
              "color": "#E5ECF6",
              "width": 0.5
             },
             "pattern": {
              "fillmode": "overlay",
              "size": 10,
              "solidity": 0.2
             }
            },
            "type": "bar"
           }
          ],
          "barpolar": [
           {
            "marker": {
             "line": {
              "color": "#E5ECF6",
              "width": 0.5
             },
             "pattern": {
              "fillmode": "overlay",
              "size": 10,
              "solidity": 0.2
             }
            },
            "type": "barpolar"
           }
          ],
          "carpet": [
           {
            "aaxis": {
             "endlinecolor": "#2a3f5f",
             "gridcolor": "white",
             "linecolor": "white",
             "minorgridcolor": "white",
             "startlinecolor": "#2a3f5f"
            },
            "baxis": {
             "endlinecolor": "#2a3f5f",
             "gridcolor": "white",
             "linecolor": "white",
             "minorgridcolor": "white",
             "startlinecolor": "#2a3f5f"
            },
            "type": "carpet"
           }
          ],
          "choropleth": [
           {
            "colorbar": {
             "outlinewidth": 0,
             "ticks": ""
            },
            "type": "choropleth"
           }
          ],
          "contour": [
           {
            "colorbar": {
             "outlinewidth": 0,
             "ticks": ""
            },
            "colorscale": [
             [
              0,
              "#0d0887"
             ],
             [
              0.1111111111111111,
              "#46039f"
             ],
             [
              0.2222222222222222,
              "#7201a8"
             ],
             [
              0.3333333333333333,
              "#9c179e"
             ],
             [
              0.4444444444444444,
              "#bd3786"
             ],
             [
              0.5555555555555556,
              "#d8576b"
             ],
             [
              0.6666666666666666,
              "#ed7953"
             ],
             [
              0.7777777777777778,
              "#fb9f3a"
             ],
             [
              0.8888888888888888,
              "#fdca26"
             ],
             [
              1,
              "#f0f921"
             ]
            ],
            "type": "contour"
           }
          ],
          "contourcarpet": [
           {
            "colorbar": {
             "outlinewidth": 0,
             "ticks": ""
            },
            "type": "contourcarpet"
           }
          ],
          "heatmap": [
           {
            "colorbar": {
             "outlinewidth": 0,
             "ticks": ""
            },
            "colorscale": [
             [
              0,
              "#0d0887"
             ],
             [
              0.1111111111111111,
              "#46039f"
             ],
             [
              0.2222222222222222,
              "#7201a8"
             ],
             [
              0.3333333333333333,
              "#9c179e"
             ],
             [
              0.4444444444444444,
              "#bd3786"
             ],
             [
              0.5555555555555556,
              "#d8576b"
             ],
             [
              0.6666666666666666,
              "#ed7953"
             ],
             [
              0.7777777777777778,
              "#fb9f3a"
             ],
             [
              0.8888888888888888,
              "#fdca26"
             ],
             [
              1,
              "#f0f921"
             ]
            ],
            "type": "heatmap"
           }
          ],
          "heatmapgl": [
           {
            "colorbar": {
             "outlinewidth": 0,
             "ticks": ""
            },
            "colorscale": [
             [
              0,
              "#0d0887"
             ],
             [
              0.1111111111111111,
              "#46039f"
             ],
             [
              0.2222222222222222,
              "#7201a8"
             ],
             [
              0.3333333333333333,
              "#9c179e"
             ],
             [
              0.4444444444444444,
              "#bd3786"
             ],
             [
              0.5555555555555556,
              "#d8576b"
             ],
             [
              0.6666666666666666,
              "#ed7953"
             ],
             [
              0.7777777777777778,
              "#fb9f3a"
             ],
             [
              0.8888888888888888,
              "#fdca26"
             ],
             [
              1,
              "#f0f921"
             ]
            ],
            "type": "heatmapgl"
           }
          ],
          "histogram": [
           {
            "marker": {
             "pattern": {
              "fillmode": "overlay",
              "size": 10,
              "solidity": 0.2
             }
            },
            "type": "histogram"
           }
          ],
          "histogram2d": [
           {
            "colorbar": {
             "outlinewidth": 0,
             "ticks": ""
            },
            "colorscale": [
             [
              0,
              "#0d0887"
             ],
             [
              0.1111111111111111,
              "#46039f"
             ],
             [
              0.2222222222222222,
              "#7201a8"
             ],
             [
              0.3333333333333333,
              "#9c179e"
             ],
             [
              0.4444444444444444,
              "#bd3786"
             ],
             [
              0.5555555555555556,
              "#d8576b"
             ],
             [
              0.6666666666666666,
              "#ed7953"
             ],
             [
              0.7777777777777778,
              "#fb9f3a"
             ],
             [
              0.8888888888888888,
              "#fdca26"
             ],
             [
              1,
              "#f0f921"
             ]
            ],
            "type": "histogram2d"
           }
          ],
          "histogram2dcontour": [
           {
            "colorbar": {
             "outlinewidth": 0,
             "ticks": ""
            },
            "colorscale": [
             [
              0,
              "#0d0887"
             ],
             [
              0.1111111111111111,
              "#46039f"
             ],
             [
              0.2222222222222222,
              "#7201a8"
             ],
             [
              0.3333333333333333,
              "#9c179e"
             ],
             [
              0.4444444444444444,
              "#bd3786"
             ],
             [
              0.5555555555555556,
              "#d8576b"
             ],
             [
              0.6666666666666666,
              "#ed7953"
             ],
             [
              0.7777777777777778,
              "#fb9f3a"
             ],
             [
              0.8888888888888888,
              "#fdca26"
             ],
             [
              1,
              "#f0f921"
             ]
            ],
            "type": "histogram2dcontour"
           }
          ],
          "mesh3d": [
           {
            "colorbar": {
             "outlinewidth": 0,
             "ticks": ""
            },
            "type": "mesh3d"
           }
          ],
          "parcoords": [
           {
            "line": {
             "colorbar": {
              "outlinewidth": 0,
              "ticks": ""
             }
            },
            "type": "parcoords"
           }
          ],
          "pie": [
           {
            "automargin": true,
            "type": "pie"
           }
          ],
          "scatter": [
           {
            "fillpattern": {
             "fillmode": "overlay",
             "size": 10,
             "solidity": 0.2
            },
            "type": "scatter"
           }
          ],
          "scatter3d": [
           {
            "line": {
             "colorbar": {
              "outlinewidth": 0,
              "ticks": ""
             }
            },
            "marker": {
             "colorbar": {
              "outlinewidth": 0,
              "ticks": ""
             }
            },
            "type": "scatter3d"
           }
          ],
          "scattercarpet": [
           {
            "marker": {
             "colorbar": {
              "outlinewidth": 0,
              "ticks": ""
             }
            },
            "type": "scattercarpet"
           }
          ],
          "scattergeo": [
           {
            "marker": {
             "colorbar": {
              "outlinewidth": 0,
              "ticks": ""
             }
            },
            "type": "scattergeo"
           }
          ],
          "scattergl": [
           {
            "marker": {
             "colorbar": {
              "outlinewidth": 0,
              "ticks": ""
             }
            },
            "type": "scattergl"
           }
          ],
          "scattermapbox": [
           {
            "marker": {
             "colorbar": {
              "outlinewidth": 0,
              "ticks": ""
             }
            },
            "type": "scattermapbox"
           }
          ],
          "scatterpolar": [
           {
            "marker": {
             "colorbar": {
              "outlinewidth": 0,
              "ticks": ""
             }
            },
            "type": "scatterpolar"
           }
          ],
          "scatterpolargl": [
           {
            "marker": {
             "colorbar": {
              "outlinewidth": 0,
              "ticks": ""
             }
            },
            "type": "scatterpolargl"
           }
          ],
          "scatterternary": [
           {
            "marker": {
             "colorbar": {
              "outlinewidth": 0,
              "ticks": ""
             }
            },
            "type": "scatterternary"
           }
          ],
          "surface": [
           {
            "colorbar": {
             "outlinewidth": 0,
             "ticks": ""
            },
            "colorscale": [
             [
              0,
              "#0d0887"
             ],
             [
              0.1111111111111111,
              "#46039f"
             ],
             [
              0.2222222222222222,
              "#7201a8"
             ],
             [
              0.3333333333333333,
              "#9c179e"
             ],
             [
              0.4444444444444444,
              "#bd3786"
             ],
             [
              0.5555555555555556,
              "#d8576b"
             ],
             [
              0.6666666666666666,
              "#ed7953"
             ],
             [
              0.7777777777777778,
              "#fb9f3a"
             ],
             [
              0.8888888888888888,
              "#fdca26"
             ],
             [
              1,
              "#f0f921"
             ]
            ],
            "type": "surface"
           }
          ],
          "table": [
           {
            "cells": {
             "fill": {
              "color": "#EBF0F8"
             },
             "line": {
              "color": "white"
             }
            },
            "header": {
             "fill": {
              "color": "#C8D4E3"
             },
             "line": {
              "color": "white"
             }
            },
            "type": "table"
           }
          ]
         },
         "layout": {
          "annotationdefaults": {
           "arrowcolor": "#2a3f5f",
           "arrowhead": 0,
           "arrowwidth": 1
          },
          "autotypenumbers": "strict",
          "coloraxis": {
           "colorbar": {
            "outlinewidth": 0,
            "ticks": ""
           }
          },
          "colorscale": {
           "diverging": [
            [
             0,
             "#8e0152"
            ],
            [
             0.1,
             "#c51b7d"
            ],
            [
             0.2,
             "#de77ae"
            ],
            [
             0.3,
             "#f1b6da"
            ],
            [
             0.4,
             "#fde0ef"
            ],
            [
             0.5,
             "#f7f7f7"
            ],
            [
             0.6,
             "#e6f5d0"
            ],
            [
             0.7,
             "#b8e186"
            ],
            [
             0.8,
             "#7fbc41"
            ],
            [
             0.9,
             "#4d9221"
            ],
            [
             1,
             "#276419"
            ]
           ],
           "sequential": [
            [
             0,
             "#0d0887"
            ],
            [
             0.1111111111111111,
             "#46039f"
            ],
            [
             0.2222222222222222,
             "#7201a8"
            ],
            [
             0.3333333333333333,
             "#9c179e"
            ],
            [
             0.4444444444444444,
             "#bd3786"
            ],
            [
             0.5555555555555556,
             "#d8576b"
            ],
            [
             0.6666666666666666,
             "#ed7953"
            ],
            [
             0.7777777777777778,
             "#fb9f3a"
            ],
            [
             0.8888888888888888,
             "#fdca26"
            ],
            [
             1,
             "#f0f921"
            ]
           ],
           "sequentialminus": [
            [
             0,
             "#0d0887"
            ],
            [
             0.1111111111111111,
             "#46039f"
            ],
            [
             0.2222222222222222,
             "#7201a8"
            ],
            [
             0.3333333333333333,
             "#9c179e"
            ],
            [
             0.4444444444444444,
             "#bd3786"
            ],
            [
             0.5555555555555556,
             "#d8576b"
            ],
            [
             0.6666666666666666,
             "#ed7953"
            ],
            [
             0.7777777777777778,
             "#fb9f3a"
            ],
            [
             0.8888888888888888,
             "#fdca26"
            ],
            [
             1,
             "#f0f921"
            ]
           ]
          },
          "colorway": [
           "#636efa",
           "#EF553B",
           "#00cc96",
           "#ab63fa",
           "#FFA15A",
           "#19d3f3",
           "#FF6692",
           "#B6E880",
           "#FF97FF",
           "#FECB52"
          ],
          "font": {
           "color": "#2a3f5f"
          },
          "geo": {
           "bgcolor": "white",
           "lakecolor": "white",
           "landcolor": "#E5ECF6",
           "showlakes": true,
           "showland": true,
           "subunitcolor": "white"
          },
          "hoverlabel": {
           "align": "left"
          },
          "hovermode": "closest",
          "mapbox": {
           "style": "light"
          },
          "paper_bgcolor": "white",
          "plot_bgcolor": "#E5ECF6",
          "polar": {
           "angularaxis": {
            "gridcolor": "white",
            "linecolor": "white",
            "ticks": ""
           },
           "bgcolor": "#E5ECF6",
           "radialaxis": {
            "gridcolor": "white",
            "linecolor": "white",
            "ticks": ""
           }
          },
          "scene": {
           "xaxis": {
            "backgroundcolor": "#E5ECF6",
            "gridcolor": "white",
            "gridwidth": 2,
            "linecolor": "white",
            "showbackground": true,
            "ticks": "",
            "zerolinecolor": "white"
           },
           "yaxis": {
            "backgroundcolor": "#E5ECF6",
            "gridcolor": "white",
            "gridwidth": 2,
            "linecolor": "white",
            "showbackground": true,
            "ticks": "",
            "zerolinecolor": "white"
           },
           "zaxis": {
            "backgroundcolor": "#E5ECF6",
            "gridcolor": "white",
            "gridwidth": 2,
            "linecolor": "white",
            "showbackground": true,
            "ticks": "",
            "zerolinecolor": "white"
           }
          },
          "shapedefaults": {
           "line": {
            "color": "#2a3f5f"
           }
          },
          "ternary": {
           "aaxis": {
            "gridcolor": "white",
            "linecolor": "white",
            "ticks": ""
           },
           "baxis": {
            "gridcolor": "white",
            "linecolor": "white",
            "ticks": ""
           },
           "bgcolor": "#E5ECF6",
           "caxis": {
            "gridcolor": "white",
            "linecolor": "white",
            "ticks": ""
           }
          },
          "title": {
           "x": 0.05
          },
          "xaxis": {
           "automargin": true,
           "gridcolor": "white",
           "linecolor": "white",
           "ticks": "",
           "title": {
            "standoff": 15
           },
           "zerolinecolor": "white",
           "zerolinewidth": 2
          },
          "yaxis": {
           "automargin": true,
           "gridcolor": "white",
           "linecolor": "white",
           "ticks": "",
           "title": {
            "standoff": 15
           },
           "zerolinecolor": "white",
           "zerolinewidth": 2
          }
         }
        },
        "title": {
         "font": {
          "family": "Impact",
          "size": 30
         },
         "text": "Points per match played",
         "x": 0.5,
         "y": 0.95
        },
        "width": 500
       }
      }
     },
     "metadata": {},
     "output_type": "display_data"
    }
   ],
   "source": [
    "#Pie chart \n",
    "fig = px.pie(pts_g, values=\"Pts/MP\", color='label', color_discrete_sequence=get_color('magma', len(pts_g)), names='label', \n",
    "            hole=None)\n",
    "fig.update_traces(textposition='inside', \n",
    "                 textinfo='label+text+value')\n",
    "fig.update_layout(title={'text': 'Points per match played', 'x': 0.5, 'y':0.95},\n",
    "                  titlefont_size=30, \n",
    "                  titlefont_family='Impact',\n",
    "                 showlegend=False,\n",
    "                 height=500, \n",
    "                 width=500,\n",
    "                 margin=dict(b=5, l=5, r=5),\n",
    "                 )\n",
    "#fig.show()"
   ]
  },
  {
   "cell_type": "markdown",
   "metadata": {},
   "source": [
    "Expected goals"
   ]
  },
  {
   "cell_type": "code",
   "execution_count": 39,
   "metadata": {},
   "outputs": [
    {
     "name": "stderr",
     "output_type": "stream",
     "text": [
      "/var/folders/cj/j3vhqkfj15734l8tr2dnw9h00000gn/T/ipykernel_3190/2864653438.py:2: SettingWithCopyWarning:\n",
      "\n",
      "\n",
      "A value is trying to be set on a copy of a slice from a DataFrame.\n",
      "Try using .loc[row_indexer,col_indexer] = value instead\n",
      "\n",
      "See the caveats in the documentation: https://pandas.pydata.org/pandas-docs/stable/user_guide/indexing.html#returning-a-view-versus-a-copy\n",
      "\n"
     ]
    },
    {
     "data": {
      "text/html": [
       "<div>\n",
       "<style scoped>\n",
       "    .dataframe tbody tr th:only-of-type {\n",
       "        vertical-align: middle;\n",
       "    }\n",
       "\n",
       "    .dataframe tbody tr th {\n",
       "        vertical-align: top;\n",
       "    }\n",
       "\n",
       "    .dataframe thead th {\n",
       "        text-align: right;\n",
       "    }\n",
       "</style>\n",
       "<table border=\"1\" class=\"dataframe\">\n",
       "  <thead>\n",
       "    <tr style=\"text-align: right;\">\n",
       "      <th></th>\n",
       "      <th>Squad</th>\n",
       "      <th>Country</th>\n",
       "      <th>xG</th>\n",
       "      <th>xGA</th>\n",
       "      <th>xGD</th>\n",
       "      <th>label</th>\n",
       "    </tr>\n",
       "  </thead>\n",
       "  <tbody>\n",
       "    <tr>\n",
       "      <th>2</th>\n",
       "      <td>Paris S-G</td>\n",
       "      <td>FRA</td>\n",
       "      <td>64.7</td>\n",
       "      <td>39.1</td>\n",
       "      <td>25.7</td>\n",
       "      <td>&lt;b&gt;Paris S-G&lt;br&gt;FRA</td>\n",
       "    </tr>\n",
       "    <tr>\n",
       "      <th>3</th>\n",
       "      <td>Arsenal</td>\n",
       "      <td>ENG</td>\n",
       "      <td>64.1</td>\n",
       "      <td>34.7</td>\n",
       "      <td>29.4</td>\n",
       "      <td>&lt;b&gt;Arsenal&lt;br&gt;ENG</td>\n",
       "    </tr>\n",
       "    <tr>\n",
       "      <th>5</th>\n",
       "      <td>Real Madrid</td>\n",
       "      <td>ESP</td>\n",
       "      <td>64.1</td>\n",
       "      <td>27.5</td>\n",
       "      <td>36.6</td>\n",
       "      <td>&lt;b&gt;Real Madrid&lt;br&gt;ESP</td>\n",
       "    </tr>\n",
       "    <tr>\n",
       "      <th>4</th>\n",
       "      <td>Manchester City</td>\n",
       "      <td>ENG</td>\n",
       "      <td>63.5</td>\n",
       "      <td>24.5</td>\n",
       "      <td>39.0</td>\n",
       "      <td>&lt;b&gt;Manchester City&lt;br&gt;ENG</td>\n",
       "    </tr>\n",
       "    <tr>\n",
       "      <th>10</th>\n",
       "      <td>Bayern Munich</td>\n",
       "      <td>GER</td>\n",
       "      <td>62.7</td>\n",
       "      <td>31.8</td>\n",
       "      <td>30.8</td>\n",
       "      <td>&lt;b&gt;Bayern Munich&lt;br&gt;GER</td>\n",
       "    </tr>\n",
       "  </tbody>\n",
       "</table>\n",
       "</div>"
      ],
      "text/plain": [
       "              Squad Country    xG   xGA   xGD                      label\n",
       "2         Paris S-G     FRA  64.7  39.1  25.7        <b>Paris S-G<br>FRA\n",
       "3           Arsenal     ENG  64.1  34.7  29.4          <b>Arsenal<br>ENG\n",
       "5       Real Madrid     ESP  64.1  27.5  36.6      <b>Real Madrid<br>ESP\n",
       "4   Manchester City     ENG  63.5  24.5  39.0  <b>Manchester City<br>ENG\n",
       "10    Bayern Munich     GER  62.7  31.8  30.8    <b>Bayern Munich<br>GER"
      ]
     },
     "execution_count": 39,
     "metadata": {},
     "output_type": "execute_result"
    }
   ],
   "source": [
    "expected = data[[\"Squad\", \"Country\", \"xG\", \"xGA\", \"xGD\"]] #expected dataframe \n",
    "expected[\"label\"] = ['<b>'+i+'<br>'+j for i, j in zip(expected['Squad'], expected[\"Country\"])] #create a label\n",
    "expected = expected.sort_values(by='xG', ascending=False)[:25]\n",
    "expected.head()"
   ]
  },
  {
   "cell_type": "code",
   "execution_count": 40,
   "metadata": {},
   "outputs": [
    {
     "data": {
      "application/vnd.plotly.v1+json": {
       "config": {
        "plotlyServerURL": "https://plot.ly"
       },
       "data": [
        {
         "fill": "toself",
         "line": {
          "color": "#f47f58"
         },
         "marker": {
          "symbol": "square"
         },
         "mode": "lines+markers",
         "name": "xG",
         "r": [
          64.7,
          64.1,
          64.1,
          63.5,
          62.7,
          59.2,
          57.5,
          56.5,
          55.9,
          55,
          54,
          53.7,
          53.5,
          53.2,
          52.7,
          51.7,
          50.4,
          49.8,
          49.3,
          48.6,
          48.3,
          47.9,
          47.4,
          47,
          46.6,
          64.7
         ],
         "theta": [
          "<b>Paris S-G<br>FRA",
          "<b>Arsenal<br>ENG",
          "<b>Real Madrid<br>ESP",
          "<b>Manchester City<br>ENG",
          "<b>Bayern Munich<br>GER",
          "<b>Lille<br>FRA",
          "<b>Liverpool<br>ENG",
          "<b>Lens<br>FRA",
          "<b>Barcelona<br>ESP",
          "<b>Inter<br>ITA",
          "<b>Brighton<br>ENG",
          "<b>Monaco<br>FRA",
          "<b>Marseille<br>FRA",
          "<b>Napoli<br>ITA",
          "<b>Dortmund<br>GER",
          "<b>Reims<br>FRA",
          "<b>Newcastle Utd<br>ENG",
          "<b>RB Leipzig<br>GER",
          "<b>Manchester Utd<br>ENG",
          "<b>Rennes<br>FRA",
          "<b>Lyon<br>FRA",
          "<b>Brentford<br>ENG",
          "<b>Roma<br>ITA",
          "<b>Milan<br>ITA",
          "<b>Atalanta<br>ITA",
          "<b>Paris S-G<br>FRA"
         ],
         "type": "scatterpolar"
        },
        {
         "fill": "toself",
         "line": {
          "color": "#ca1a50"
         },
         "marker": {
          "symbol": "square"
         },
         "mode": "lines+markers",
         "name": "xGA",
         "r": [
          39.1,
          34.7,
          27.5,
          24.5,
          31.8,
          35.2,
          43.4,
          35.1,
          22.7,
          27.1,
          33.6,
          43.5,
          37.1,
          25.3,
          37,
          41.1,
          30.7,
          31.3,
          38.7,
          38.1,
          39.6,
          42.1,
          23.8,
          32.4,
          32.7,
          39.1
         ],
         "theta": [
          "<b>Paris S-G<br>FRA",
          "<b>Arsenal<br>ENG",
          "<b>Real Madrid<br>ESP",
          "<b>Manchester City<br>ENG",
          "<b>Bayern Munich<br>GER",
          "<b>Lille<br>FRA",
          "<b>Liverpool<br>ENG",
          "<b>Lens<br>FRA",
          "<b>Barcelona<br>ESP",
          "<b>Inter<br>ITA",
          "<b>Brighton<br>ENG",
          "<b>Monaco<br>FRA",
          "<b>Marseille<br>FRA",
          "<b>Napoli<br>ITA",
          "<b>Dortmund<br>GER",
          "<b>Reims<br>FRA",
          "<b>Newcastle Utd<br>ENG",
          "<b>RB Leipzig<br>GER",
          "<b>Manchester Utd<br>ENG",
          "<b>Rennes<br>FRA",
          "<b>Lyon<br>FRA",
          "<b>Brentford<br>ENG",
          "<b>Roma<br>ITA",
          "<b>Milan<br>ITA",
          "<b>Atalanta<br>ITA",
          "<b>Paris S-G<br>FRA"
         ],
         "type": "scatterpolar"
        },
        {
         "fill": "toself",
         "line": {
          "color": "#681f55"
         },
         "marker": {
          "symbol": "square"
         },
         "mode": "lines+markers",
         "name": "xGD",
         "r": [
          25.7,
          29.4,
          36.6,
          39,
          30.8,
          24,
          14.1,
          21.3,
          33.2,
          27.9,
          20.4,
          10.2,
          16.4,
          27.9,
          15.7,
          10.5,
          19.7,
          18.5,
          10.5,
          10.5,
          8.7,
          5.7,
          23.6,
          14.6,
          13.9,
          25.7
         ],
         "theta": [
          "<b>Paris S-G<br>FRA",
          "<b>Arsenal<br>ENG",
          "<b>Real Madrid<br>ESP",
          "<b>Manchester City<br>ENG",
          "<b>Bayern Munich<br>GER",
          "<b>Lille<br>FRA",
          "<b>Liverpool<br>ENG",
          "<b>Lens<br>FRA",
          "<b>Barcelona<br>ESP",
          "<b>Inter<br>ITA",
          "<b>Brighton<br>ENG",
          "<b>Monaco<br>FRA",
          "<b>Marseille<br>FRA",
          "<b>Napoli<br>ITA",
          "<b>Dortmund<br>GER",
          "<b>Reims<br>FRA",
          "<b>Newcastle Utd<br>ENG",
          "<b>RB Leipzig<br>GER",
          "<b>Manchester Utd<br>ENG",
          "<b>Rennes<br>FRA",
          "<b>Lyon<br>FRA",
          "<b>Brentford<br>ENG",
          "<b>Roma<br>ITA",
          "<b>Milan<br>ITA",
          "<b>Atalanta<br>ITA",
          "<b>Paris S-G<br>FRA"
         ],
         "type": "scatterpolar"
        }
       ],
       "layout": {
        "height": 700,
        "legend": {
         "font": {
          "size": 16
         },
         "orientation": "h",
         "x": 0.5,
         "xanchor": "center",
         "y": -0.19,
         "yanchor": "bottom"
        },
        "polar": {
         "radialaxis": {
          "tickfont": {
           "family": "Arial",
           "size": 14
          }
         }
        },
        "template": {},
        "title": {
         "font": {
          "family": "cambria",
          "size": 18
         },
         "text": "Expected goals xG, Expected Goals Against xGA and Expected difference xGD (xGD = xG - xGA)",
         "x": 0.05,
         "y": 0.95
        },
        "width": 800
       }
      }
     },
     "metadata": {},
     "output_type": "display_data"
    }
   ],
   "source": [
    "#Radar chart \n",
    "rxG_list = list(expected[\"xG\"])\n",
    "rxG_list.append(rxG_list[0])\n",
    "rxGA_list = list(expected[\"xGA\"])\n",
    "rxGA_list.append(rxGA_list[0])\n",
    "rxGD_list = list(expected[\"xGD\"])\n",
    "rxGD_list.append(rxGD_list[0])\n",
    "theta_list = list(expected[\"label\"])\n",
    "theta_list.append(theta_list[0])\n",
    "#r_list = [rxG_list, rxGA_list, rxGD_list]\n",
    "#theta_list\n",
    "fig = go.Figure()\n",
    "fig.add_trace(go.Scatterpolar(r=rxG_list, theta=theta_list, fill='toself', line_color=get_color('rocket_r', len(expected))[6], \n",
    "                             name='xG'))\n",
    "fig.add_trace(go.Scatterpolar(r=rxGA_list, theta=theta_list, fill=\"toself\", line_color=get_color('rocket_r', len(expected))[12],\n",
    "                             name=\"xGA\"))\n",
    "fig.add_trace(go.Scatterpolar(r=rxGD_list, theta=theta_list, fill='toself', line_color=get_color('rocket_r', len(expected))[18],\n",
    "                             name=\"xGD\"))\n",
    "fig.update_traces(mode='lines+markers',marker=dict(symbol='square'))\n",
    "fig.update_layout(height=700, \n",
    "                 width=800,\n",
    "                  title={'text': \"Expected goals xG, Expected Goals Against xGA and Expected difference xGD (xGD = xG - xGA)\",\n",
    "                         'x':0.050,\n",
    "                        'y': 0.95},\n",
    "                  titlefont_family='cambria',\n",
    "                  titlefont_size=18,\n",
    "                  template=None,\n",
    "                  polar = dict(\n",
    "                  radialaxis_tickfont_size=14,\n",
    "                  radialaxis_tickfont_family='Arial'),\n",
    "                 legend=dict(yanchor=\"bottom\",\n",
    "                            xanchor='center',\n",
    "                            x=0.5,\n",
    "                            y=-0.19,\n",
    "                            orientation='h',\n",
    "                            font=dict(size=16)),\n",
    "                 )\n",
    "#fig.show()"
   ]
  },
  {
   "cell_type": "markdown",
   "metadata": {},
   "source": [
    "Distributions of W, D and L matches / GF, GA and GD"
   ]
  },
  {
   "cell_type": "code",
   "execution_count": 41,
   "metadata": {},
   "outputs": [],
   "source": [
    "dist = data[[\"Country\", \"W\", \"D\", \"L\", \"GF\", \"GA\", \"GD\"]] #create dist dataframe \n",
    "countries = list(dist[\"Country\"].value_counts().index) #list of countries\n",
    "#colors of distributions \n",
    "color = get_color(\"magma\", len(countries))\n",
    "color1 = get_color(\"bone\", len(countries))\n",
    "color2 = get_color(\"viridis\", len(countries))\n",
    "color3 = get_color('mako', len(countries))\n",
    "color4 = get_color('rocket', len(countries))\n",
    "color5 = get_color('icefire', len(countries))"
   ]
  },
  {
   "cell_type": "code",
   "execution_count": 42,
   "metadata": {},
   "outputs": [
    {
     "data": {
      "application/vnd.plotly.v1+json": {
       "config": {
        "plotlyServerURL": "https://plot.ly"
       },
       "data": [
        {
         "line": {
          "color": "#2c115f"
         },
         "name": "ESP",
         "orientation": "h",
         "points": false,
         "side": "positive",
         "type": "violin",
         "width": 3,
         "x": [
          23,
          20,
          18,
          16,
          14,
          14,
          13,
          11,
          10,
          10,
          10,
          9,
          9,
          10,
          7,
          7,
          8,
          7,
          6,
          2
         ],
         "xaxis": "x",
         "yaxis": "y"
        },
        {
         "line": {
          "color": "#721f81"
         },
         "name": "ITA",
         "orientation": "h",
         "points": false,
         "side": "positive",
         "type": "violin",
         "width": 3,
         "x": [
          24,
          18,
          18,
          17,
          15,
          16,
          14,
          12,
          11,
          11,
          9,
          11,
          10,
          7,
          7,
          6,
          5,
          6,
          3,
          3
         ],
         "xaxis": "x",
         "yaxis": "y"
        },
        {
         "line": {
          "color": "#b73779"
         },
         "name": "FRA",
         "orientation": "h",
         "points": false,
         "side": "positive",
         "type": "violin",
         "width": 3,
         "x": [
          24,
          19,
          19,
          18,
          16,
          16,
          14,
          11,
          11,
          12,
          12,
          11,
          11,
          8,
          6,
          7,
          6,
          4,
          6,
          3
         ],
         "xaxis": "x",
         "yaxis": "y"
        },
        {
         "line": {
          "color": "#f1605d"
         },
         "name": "ENG",
         "orientation": "h",
         "points": false,
         "side": "positive",
         "type": "violin",
         "width": 3,
         "x": [
          23,
          22,
          18,
          15,
          16,
          14,
          14,
          15,
          13,
          10,
          10,
          9,
          9,
          9,
          8,
          7,
          8,
          6,
          6,
          6
         ],
         "xaxis": "x",
         "yaxis": "y"
        },
        {
         "line": {
          "color": "#feb078"
         },
         "name": "GER",
         "orientation": "h",
         "points": false,
         "side": "positive",
         "type": "violin",
         "width": 3,
         "x": [
          19,
          17,
          15,
          15,
          14,
          13,
          12,
          11,
          11,
          9,
          8,
          10,
          8,
          8,
          8,
          5,
          5,
          5
         ],
         "xaxis": "x",
         "yaxis": "y"
        },
        {
         "line": {
          "color": "#252533"
         },
         "name": "ESP",
         "orientation": "h",
         "points": false,
         "side": "positive",
         "type": "violin",
         "width": 3,
         "x": [
          2,
          5,
          5,
          8,
          10,
          10,
          10,
          11,
          10,
          12,
          12,
          12,
          12,
          15,
          12,
          12,
          16,
          16,
          14,
          20
         ],
         "xaxis": "x2",
         "yaxis": "y2"
        },
        {
         "line": {
          "color": "#4a4a67"
         },
         "name": "ITA",
         "orientation": "h",
         "points": false,
         "side": "positive",
         "type": "violin",
         "width": 3,
         "x": [
          3,
          6,
          7,
          8,
          7,
          11,
          9,
          11,
          10,
          11,
          9,
          13,
          12,
          12,
          12,
          14,
          14,
          17,
          17,
          20
         ],
         "xaxis": "x2",
         "yaxis": "y2"
        },
        {
         "line": {
          "color": "#707b90"
         },
         "name": "FRA",
         "orientation": "h",
         "points": false,
         "side": "positive",
         "type": "violin",
         "width": 3,
         "x": [
          5,
          4,
          5,
          7,
          8,
          10,
          9,
          6,
          8,
          10,
          12,
          15,
          16,
          15,
          12,
          14,
          14,
          18,
          22,
          24
         ],
         "xaxis": "x2",
         "yaxis": "y2"
        },
        {
         "line": {
          "color": "#95aeb5"
         },
         "name": "ENG",
         "orientation": "h",
         "points": false,
         "side": "positive",
         "type": "violin",
         "width": 3,
         "x": [
          3,
          4,
          7,
          4,
          10,
          8,
          9,
          11,
          12,
          8,
          12,
          13,
          16,
          16,
          15,
          17,
          20,
          16,
          17,
          20
         ],
         "xaxis": "x2",
         "yaxis": "y2"
        },
        {
         "line": {
          "color": "#c6dada"
         },
         "name": "GER",
         "orientation": "h",
         "points": false,
         "side": "positive",
         "type": "violin",
         "width": 3,
         "x": [
          7,
          4,
          6,
          7,
          6,
          10,
          8,
          8,
          9,
          10,
          10,
          14,
          15,
          16,
          18,
          14,
          14,
          17
         ],
         "xaxis": "x2",
         "yaxis": "y2"
        },
        {
         "line": {
          "color": "#443983"
         },
         "name": "ESP",
         "orientation": "h",
         "points": false,
         "side": "positive",
         "type": "violin",
         "width": 3,
         "x": [
          4,
          5,
          6,
          6,
          5,
          6,
          7,
          8,
          10,
          7,
          8,
          8,
          9,
          5,
          10,
          11,
          6,
          6,
          10,
          7
         ],
         "xaxis": "x3",
         "yaxis": "y3"
        },
        {
         "line": {
          "color": "#31688e"
         },
         "name": "ITA",
         "orientation": "h",
         "points": false,
         "side": "positive",
         "type": "violin",
         "width": 3,
         "x": [
          3,
          7,
          5,
          5,
          8,
          3,
          7,
          8,
          9,
          9,
          12,
          7,
          8,
          11,
          12,
          10,
          12,
          8,
          10,
          8
         ],
         "xaxis": "x3",
         "yaxis": "y3"
        },
        {
         "line": {
          "color": "#21918c"
         },
         "name": "FRA",
         "orientation": "h",
         "points": false,
         "side": "positive",
         "type": "violin",
         "width": 3,
         "x": [
          3,
          9,
          7,
          7,
          8,
          5,
          8,
          14,
          12,
          9,
          7,
          5,
          4,
          9,
          13,
          10,
          11,
          9,
          3,
          5
         ],
         "xaxis": "x3",
         "yaxis": "y3"
        },
        {
         "line": {
          "color": "#35b779"
         },
         "name": "ENG",
         "orientation": "h",
         "points": false,
         "side": "positive",
         "type": "violin",
         "width": 3,
         "x": [
          6,
          4,
          5,
          11,
          5,
          7,
          8,
          6,
          6,
          14,
          9,
          10,
          7,
          6,
          7,
          8,
          4,
          10,
          9,
          6
         ],
         "xaxis": "x3",
         "yaxis": "y3"
        },
        {
         "line": {
          "color": "#90d743"
         },
         "name": "GER",
         "orientation": "h",
         "points": false,
         "side": "positive",
         "type": "violin",
         "width": 3,
         "x": [
          3,
          8,
          7,
          6,
          8,
          5,
          9,
          10,
          9,
          9,
          11,
          5,
          6,
          5,
          3,
          10,
          9,
          7
         ],
         "xaxis": "x3",
         "yaxis": "y3"
        },
        {
         "line": {
          "color": "#332345"
         },
         "name": "ESP",
         "orientation": "h",
         "points": false,
         "side": "positive",
         "type": "violin",
         "width": 3,
         "x": [
          53,
          63,
          47,
          39,
          38,
          39,
          42,
          28,
          36,
          26,
          44,
          35,
          36,
          26,
          27,
          23,
          36,
          30,
          35,
          20
         ],
         "xaxis": "x4",
         "yaxis": "y4"
        },
        {
         "line": {
          "color": "#40498e"
         },
         "name": "ITA",
         "orientation": "h",
         "points": false,
         "side": "positive",
         "type": "violin",
         "width": 3,
         "x": [
          66,
          49,
          47,
          42,
          49,
          48,
          48,
          40,
          35,
          32,
          39,
          38,
          35,
          25,
          37,
          26,
          26,
          26,
          27,
          20
         ],
         "xaxis": "x4",
         "yaxis": "y4"
        },
        {
         "line": {
          "color": "#357ba3"
         },
         "name": "FRA",
         "orientation": "h",
         "points": false,
         "side": "positive",
         "type": "violin",
         "width": 3,
         "x": [
          75,
          54,
          57,
          66,
          57,
          51,
          49,
          40,
          38,
          43,
          33,
          47,
          47,
          30,
          33,
          35,
          41,
          39,
          22,
          25
         ],
         "xaxis": "x4",
         "yaxis": "y4"
        },
        {
         "line": {
          "color": "#38aaac"
         },
         "name": "ENG",
         "orientation": "h",
         "points": false,
         "side": "positive",
         "type": "violin",
         "width": 3,
         "x": [
          77,
          78,
          46,
          48,
          57,
          54,
          59,
          45,
          44,
          48,
          30,
          31,
          27,
          31,
          29,
          41,
          43,
          24,
          26,
          27
         ],
         "xaxis": "x4",
         "yaxis": "y4"
        },
        {
         "line": {
          "color": "#79d6ae"
         },
         "name": "GER",
         "orientation": "h",
         "points": false,
         "side": "positive",
         "type": "violin",
         "width": 3,
         "x": [
          66,
          79,
          43,
          53,
          41,
          51,
          49,
          51,
          49,
          43,
          40,
          47,
          38,
          39,
          32,
          36,
          26,
          35
         ],
         "xaxis": "x4",
         "yaxis": "y4"
        },
        {
         "line": {
          "color": "#3f1b43"
         },
         "name": "ESP",
         "orientation": "h",
         "points": false,
         "side": "positive",
         "type": "violin",
         "width": 3,
         "x": [
          9,
          24,
          21,
          29,
          28,
          33,
          30,
          32,
          36,
          30,
          43,
          44,
          42,
          48,
          36,
          42,
          52,
          36,
          49,
          59
         ],
         "xaxis": "x5",
         "yaxis": "y5"
        },
        {
         "line": {
          "color": "#841e5a"
         },
         "name": "ITA",
         "orientation": "h",
         "points": false,
         "side": "positive",
         "type": "violin",
         "width": 3,
         "x": [
          21,
          21,
          25,
          26,
          37,
          34,
          35,
          39,
          33,
          36,
          39,
          46,
          41,
          37,
          50,
          36,
          49,
          44,
          54,
          52
         ],
         "xaxis": "x5",
         "yaxis": "y5"
        },
        {
         "line": {
          "color": "#cb1b4f"
         },
         "name": "FRA",
         "orientation": "h",
         "points": false,
         "side": "positive",
         "type": "violin",
         "width": 3,
         "x": [
          31,
          25,
          30,
          46,
          40,
          33,
          34,
          32,
          29,
          43,
          42,
          54,
          52,
          53,
          44,
          48,
          53,
          67,
          58,
          68
         ],
         "xaxis": "x5",
         "yaxis": "y5"
        },
        {
         "line": {
          "color": "#f06043"
         },
         "name": "ENG",
         "orientation": "h",
         "points": false,
         "side": "positive",
         "type": "violin",
         "width": 3,
         "x": [
          34,
          28,
          37,
          24,
          45,
          37,
          38,
          41,
          42,
          43,
          33,
          40,
          44,
          59,
          41,
          62,
          56,
          46,
          59,
          56
         ],
         "xaxis": "x5",
         "yaxis": "y5"
        },
        {
         "line": {
          "color": "#f6ab83"
         },
         "name": "GER",
         "orientation": "h",
         "points": false,
         "side": "positive",
         "type": "violin",
         "width": 3,
         "x": [
          39,
          33,
          31,
          35,
          37,
          41,
          40,
          37,
          45,
          45,
          47,
          56,
          54,
          50,
          66,
          51,
          52,
          59
         ],
         "xaxis": "x5",
         "yaxis": "y5"
        },
        {
         "line": {
          "color": "#4798ce"
         },
         "name": "ESP",
         "orientation": "h",
         "points": false,
         "side": "positive",
         "type": "violin",
         "width": 3,
         "x": [
          44,
          39,
          26,
          10,
          10,
          6,
          12,
          -4,
          0,
          -4,
          1,
          -9,
          -6,
          -22,
          -9,
          -19,
          -16,
          -6,
          -14,
          -39
         ],
         "xaxis": "x6",
         "yaxis": "y6"
        },
        {
         "line": {
          "color": "#444282"
         },
         "name": "ITA",
         "orientation": "h",
         "points": false,
         "side": "positive",
         "type": "violin",
         "width": 3,
         "x": [
          45,
          28,
          22,
          16,
          12,
          14,
          13,
          1,
          2,
          -4,
          0,
          -8,
          -6,
          -12,
          -13,
          -10,
          -23,
          -18,
          -27,
          -32
         ],
         "xaxis": "x6",
         "yaxis": "y6"
        },
        {
         "line": {
          "color": "#1f1e1e"
         },
         "name": "FRA",
         "orientation": "h",
         "points": false,
         "side": "positive",
         "type": "violin",
         "width": 3,
         "x": [
          44,
          29,
          27,
          20,
          17,
          18,
          15,
          8,
          9,
          0,
          -9,
          -7,
          -5,
          -23,
          -11,
          -13,
          -12,
          -28,
          -36,
          -43
         ],
         "xaxis": "x6",
         "yaxis": "y6"
        },
        {
         "line": {
          "color": "#782c3f"
         },
         "name": "ENG",
         "orientation": "h",
         "points": false,
         "side": "positive",
         "type": "violin",
         "width": 3,
         "x": [
          43,
          50,
          9,
          24,
          12,
          17,
          21,
          4,
          2,
          5,
          -3,
          -9,
          -17,
          -28,
          -12,
          -21,
          -13,
          -22,
          -33,
          -29
         ],
         "xaxis": "x6",
         "yaxis": "y6"
        },
        {
         "line": {
          "color": "#e25f33"
         },
         "name": "GER",
         "orientation": "h",
         "points": false,
         "side": "positive",
         "type": "violin",
         "width": 3,
         "x": [
          27,
          46,
          12,
          18,
          4,
          10,
          9,
          14,
          4,
          -2,
          -7,
          -9,
          -16,
          -11,
          -34,
          -15,
          -26,
          -24
         ],
         "xaxis": "x6",
         "yaxis": "y6"
        }
       ],
       "layout": {
        "height": 600,
        "plot_bgcolor": "#f0f1f2",
        "showlegend": false,
        "template": {
         "data": {
          "bar": [
           {
            "error_x": {
             "color": "rgb(36,36,36)"
            },
            "error_y": {
             "color": "rgb(36,36,36)"
            },
            "marker": {
             "line": {
              "color": "white",
              "width": 0.5
             },
             "pattern": {
              "fillmode": "overlay",
              "size": 10,
              "solidity": 0.2
             }
            },
            "type": "bar"
           }
          ],
          "barpolar": [
           {
            "marker": {
             "line": {
              "color": "white",
              "width": 0.5
             },
             "pattern": {
              "fillmode": "overlay",
              "size": 10,
              "solidity": 0.2
             }
            },
            "type": "barpolar"
           }
          ],
          "carpet": [
           {
            "aaxis": {
             "endlinecolor": "rgb(36,36,36)",
             "gridcolor": "white",
             "linecolor": "white",
             "minorgridcolor": "white",
             "startlinecolor": "rgb(36,36,36)"
            },
            "baxis": {
             "endlinecolor": "rgb(36,36,36)",
             "gridcolor": "white",
             "linecolor": "white",
             "minorgridcolor": "white",
             "startlinecolor": "rgb(36,36,36)"
            },
            "type": "carpet"
           }
          ],
          "choropleth": [
           {
            "colorbar": {
             "outlinewidth": 1,
             "tickcolor": "rgb(36,36,36)",
             "ticks": "outside"
            },
            "type": "choropleth"
           }
          ],
          "contour": [
           {
            "colorbar": {
             "outlinewidth": 1,
             "tickcolor": "rgb(36,36,36)",
             "ticks": "outside"
            },
            "colorscale": [
             [
              0,
              "#440154"
             ],
             [
              0.1111111111111111,
              "#482878"
             ],
             [
              0.2222222222222222,
              "#3e4989"
             ],
             [
              0.3333333333333333,
              "#31688e"
             ],
             [
              0.4444444444444444,
              "#26828e"
             ],
             [
              0.5555555555555556,
              "#1f9e89"
             ],
             [
              0.6666666666666666,
              "#35b779"
             ],
             [
              0.7777777777777778,
              "#6ece58"
             ],
             [
              0.8888888888888888,
              "#b5de2b"
             ],
             [
              1,
              "#fde725"
             ]
            ],
            "type": "contour"
           }
          ],
          "contourcarpet": [
           {
            "colorbar": {
             "outlinewidth": 1,
             "tickcolor": "rgb(36,36,36)",
             "ticks": "outside"
            },
            "type": "contourcarpet"
           }
          ],
          "heatmap": [
           {
            "colorbar": {
             "outlinewidth": 1,
             "tickcolor": "rgb(36,36,36)",
             "ticks": "outside"
            },
            "colorscale": [
             [
              0,
              "#440154"
             ],
             [
              0.1111111111111111,
              "#482878"
             ],
             [
              0.2222222222222222,
              "#3e4989"
             ],
             [
              0.3333333333333333,
              "#31688e"
             ],
             [
              0.4444444444444444,
              "#26828e"
             ],
             [
              0.5555555555555556,
              "#1f9e89"
             ],
             [
              0.6666666666666666,
              "#35b779"
             ],
             [
              0.7777777777777778,
              "#6ece58"
             ],
             [
              0.8888888888888888,
              "#b5de2b"
             ],
             [
              1,
              "#fde725"
             ]
            ],
            "type": "heatmap"
           }
          ],
          "heatmapgl": [
           {
            "colorbar": {
             "outlinewidth": 1,
             "tickcolor": "rgb(36,36,36)",
             "ticks": "outside"
            },
            "colorscale": [
             [
              0,
              "#440154"
             ],
             [
              0.1111111111111111,
              "#482878"
             ],
             [
              0.2222222222222222,
              "#3e4989"
             ],
             [
              0.3333333333333333,
              "#31688e"
             ],
             [
              0.4444444444444444,
              "#26828e"
             ],
             [
              0.5555555555555556,
              "#1f9e89"
             ],
             [
              0.6666666666666666,
              "#35b779"
             ],
             [
              0.7777777777777778,
              "#6ece58"
             ],
             [
              0.8888888888888888,
              "#b5de2b"
             ],
             [
              1,
              "#fde725"
             ]
            ],
            "type": "heatmapgl"
           }
          ],
          "histogram": [
           {
            "marker": {
             "line": {
              "color": "white",
              "width": 0.6
             }
            },
            "type": "histogram"
           }
          ],
          "histogram2d": [
           {
            "colorbar": {
             "outlinewidth": 1,
             "tickcolor": "rgb(36,36,36)",
             "ticks": "outside"
            },
            "colorscale": [
             [
              0,
              "#440154"
             ],
             [
              0.1111111111111111,
              "#482878"
             ],
             [
              0.2222222222222222,
              "#3e4989"
             ],
             [
              0.3333333333333333,
              "#31688e"
             ],
             [
              0.4444444444444444,
              "#26828e"
             ],
             [
              0.5555555555555556,
              "#1f9e89"
             ],
             [
              0.6666666666666666,
              "#35b779"
             ],
             [
              0.7777777777777778,
              "#6ece58"
             ],
             [
              0.8888888888888888,
              "#b5de2b"
             ],
             [
              1,
              "#fde725"
             ]
            ],
            "type": "histogram2d"
           }
          ],
          "histogram2dcontour": [
           {
            "colorbar": {
             "outlinewidth": 1,
             "tickcolor": "rgb(36,36,36)",
             "ticks": "outside"
            },
            "colorscale": [
             [
              0,
              "#440154"
             ],
             [
              0.1111111111111111,
              "#482878"
             ],
             [
              0.2222222222222222,
              "#3e4989"
             ],
             [
              0.3333333333333333,
              "#31688e"
             ],
             [
              0.4444444444444444,
              "#26828e"
             ],
             [
              0.5555555555555556,
              "#1f9e89"
             ],
             [
              0.6666666666666666,
              "#35b779"
             ],
             [
              0.7777777777777778,
              "#6ece58"
             ],
             [
              0.8888888888888888,
              "#b5de2b"
             ],
             [
              1,
              "#fde725"
             ]
            ],
            "type": "histogram2dcontour"
           }
          ],
          "mesh3d": [
           {
            "colorbar": {
             "outlinewidth": 1,
             "tickcolor": "rgb(36,36,36)",
             "ticks": "outside"
            },
            "type": "mesh3d"
           }
          ],
          "parcoords": [
           {
            "line": {
             "colorbar": {
              "outlinewidth": 1,
              "tickcolor": "rgb(36,36,36)",
              "ticks": "outside"
             }
            },
            "type": "parcoords"
           }
          ],
          "pie": [
           {
            "automargin": true,
            "type": "pie"
           }
          ],
          "scatter": [
           {
            "fillpattern": {
             "fillmode": "overlay",
             "size": 10,
             "solidity": 0.2
            },
            "type": "scatter"
           }
          ],
          "scatter3d": [
           {
            "line": {
             "colorbar": {
              "outlinewidth": 1,
              "tickcolor": "rgb(36,36,36)",
              "ticks": "outside"
             }
            },
            "marker": {
             "colorbar": {
              "outlinewidth": 1,
              "tickcolor": "rgb(36,36,36)",
              "ticks": "outside"
             }
            },
            "type": "scatter3d"
           }
          ],
          "scattercarpet": [
           {
            "marker": {
             "colorbar": {
              "outlinewidth": 1,
              "tickcolor": "rgb(36,36,36)",
              "ticks": "outside"
             }
            },
            "type": "scattercarpet"
           }
          ],
          "scattergeo": [
           {
            "marker": {
             "colorbar": {
              "outlinewidth": 1,
              "tickcolor": "rgb(36,36,36)",
              "ticks": "outside"
             }
            },
            "type": "scattergeo"
           }
          ],
          "scattergl": [
           {
            "marker": {
             "colorbar": {
              "outlinewidth": 1,
              "tickcolor": "rgb(36,36,36)",
              "ticks": "outside"
             }
            },
            "type": "scattergl"
           }
          ],
          "scattermapbox": [
           {
            "marker": {
             "colorbar": {
              "outlinewidth": 1,
              "tickcolor": "rgb(36,36,36)",
              "ticks": "outside"
             }
            },
            "type": "scattermapbox"
           }
          ],
          "scatterpolar": [
           {
            "marker": {
             "colorbar": {
              "outlinewidth": 1,
              "tickcolor": "rgb(36,36,36)",
              "ticks": "outside"
             }
            },
            "type": "scatterpolar"
           }
          ],
          "scatterpolargl": [
           {
            "marker": {
             "colorbar": {
              "outlinewidth": 1,
              "tickcolor": "rgb(36,36,36)",
              "ticks": "outside"
             }
            },
            "type": "scatterpolargl"
           }
          ],
          "scatterternary": [
           {
            "marker": {
             "colorbar": {
              "outlinewidth": 1,
              "tickcolor": "rgb(36,36,36)",
              "ticks": "outside"
             }
            },
            "type": "scatterternary"
           }
          ],
          "surface": [
           {
            "colorbar": {
             "outlinewidth": 1,
             "tickcolor": "rgb(36,36,36)",
             "ticks": "outside"
            },
            "colorscale": [
             [
              0,
              "#440154"
             ],
             [
              0.1111111111111111,
              "#482878"
             ],
             [
              0.2222222222222222,
              "#3e4989"
             ],
             [
              0.3333333333333333,
              "#31688e"
             ],
             [
              0.4444444444444444,
              "#26828e"
             ],
             [
              0.5555555555555556,
              "#1f9e89"
             ],
             [
              0.6666666666666666,
              "#35b779"
             ],
             [
              0.7777777777777778,
              "#6ece58"
             ],
             [
              0.8888888888888888,
              "#b5de2b"
             ],
             [
              1,
              "#fde725"
             ]
            ],
            "type": "surface"
           }
          ],
          "table": [
           {
            "cells": {
             "fill": {
              "color": "rgb(237,237,237)"
             },
             "line": {
              "color": "white"
             }
            },
            "header": {
             "fill": {
              "color": "rgb(217,217,217)"
             },
             "line": {
              "color": "white"
             }
            },
            "type": "table"
           }
          ]
         },
         "layout": {
          "annotationdefaults": {
           "arrowhead": 0,
           "arrowwidth": 1
          },
          "autotypenumbers": "strict",
          "coloraxis": {
           "colorbar": {
            "outlinewidth": 1,
            "tickcolor": "rgb(36,36,36)",
            "ticks": "outside"
           }
          },
          "colorscale": {
           "diverging": [
            [
             0,
             "rgb(103,0,31)"
            ],
            [
             0.1,
             "rgb(178,24,43)"
            ],
            [
             0.2,
             "rgb(214,96,77)"
            ],
            [
             0.3,
             "rgb(244,165,130)"
            ],
            [
             0.4,
             "rgb(253,219,199)"
            ],
            [
             0.5,
             "rgb(247,247,247)"
            ],
            [
             0.6,
             "rgb(209,229,240)"
            ],
            [
             0.7,
             "rgb(146,197,222)"
            ],
            [
             0.8,
             "rgb(67,147,195)"
            ],
            [
             0.9,
             "rgb(33,102,172)"
            ],
            [
             1,
             "rgb(5,48,97)"
            ]
           ],
           "sequential": [
            [
             0,
             "#440154"
            ],
            [
             0.1111111111111111,
             "#482878"
            ],
            [
             0.2222222222222222,
             "#3e4989"
            ],
            [
             0.3333333333333333,
             "#31688e"
            ],
            [
             0.4444444444444444,
             "#26828e"
            ],
            [
             0.5555555555555556,
             "#1f9e89"
            ],
            [
             0.6666666666666666,
             "#35b779"
            ],
            [
             0.7777777777777778,
             "#6ece58"
            ],
            [
             0.8888888888888888,
             "#b5de2b"
            ],
            [
             1,
             "#fde725"
            ]
           ],
           "sequentialminus": [
            [
             0,
             "#440154"
            ],
            [
             0.1111111111111111,
             "#482878"
            ],
            [
             0.2222222222222222,
             "#3e4989"
            ],
            [
             0.3333333333333333,
             "#31688e"
            ],
            [
             0.4444444444444444,
             "#26828e"
            ],
            [
             0.5555555555555556,
             "#1f9e89"
            ],
            [
             0.6666666666666666,
             "#35b779"
            ],
            [
             0.7777777777777778,
             "#6ece58"
            ],
            [
             0.8888888888888888,
             "#b5de2b"
            ],
            [
             1,
             "#fde725"
            ]
           ]
          },
          "colorway": [
           "#1F77B4",
           "#FF7F0E",
           "#2CA02C",
           "#D62728",
           "#9467BD",
           "#8C564B",
           "#E377C2",
           "#7F7F7F",
           "#BCBD22",
           "#17BECF"
          ],
          "font": {
           "color": "rgb(36,36,36)"
          },
          "geo": {
           "bgcolor": "white",
           "lakecolor": "white",
           "landcolor": "white",
           "showlakes": true,
           "showland": true,
           "subunitcolor": "white"
          },
          "hoverlabel": {
           "align": "left"
          },
          "hovermode": "closest",
          "mapbox": {
           "style": "light"
          },
          "paper_bgcolor": "white",
          "plot_bgcolor": "white",
          "polar": {
           "angularaxis": {
            "gridcolor": "rgb(232,232,232)",
            "linecolor": "rgb(36,36,36)",
            "showgrid": false,
            "showline": true,
            "ticks": "outside"
           },
           "bgcolor": "white",
           "radialaxis": {
            "gridcolor": "rgb(232,232,232)",
            "linecolor": "rgb(36,36,36)",
            "showgrid": false,
            "showline": true,
            "ticks": "outside"
           }
          },
          "scene": {
           "xaxis": {
            "backgroundcolor": "white",
            "gridcolor": "rgb(232,232,232)",
            "gridwidth": 2,
            "linecolor": "rgb(36,36,36)",
            "showbackground": true,
            "showgrid": false,
            "showline": true,
            "ticks": "outside",
            "zeroline": false,
            "zerolinecolor": "rgb(36,36,36)"
           },
           "yaxis": {
            "backgroundcolor": "white",
            "gridcolor": "rgb(232,232,232)",
            "gridwidth": 2,
            "linecolor": "rgb(36,36,36)",
            "showbackground": true,
            "showgrid": false,
            "showline": true,
            "ticks": "outside",
            "zeroline": false,
            "zerolinecolor": "rgb(36,36,36)"
           },
           "zaxis": {
            "backgroundcolor": "white",
            "gridcolor": "rgb(232,232,232)",
            "gridwidth": 2,
            "linecolor": "rgb(36,36,36)",
            "showbackground": true,
            "showgrid": false,
            "showline": true,
            "ticks": "outside",
            "zeroline": false,
            "zerolinecolor": "rgb(36,36,36)"
           }
          },
          "shapedefaults": {
           "fillcolor": "black",
           "line": {
            "width": 0
           },
           "opacity": 0.3
          },
          "ternary": {
           "aaxis": {
            "gridcolor": "rgb(232,232,232)",
            "linecolor": "rgb(36,36,36)",
            "showgrid": false,
            "showline": true,
            "ticks": "outside"
           },
           "baxis": {
            "gridcolor": "rgb(232,232,232)",
            "linecolor": "rgb(36,36,36)",
            "showgrid": false,
            "showline": true,
            "ticks": "outside"
           },
           "bgcolor": "white",
           "caxis": {
            "gridcolor": "rgb(232,232,232)",
            "linecolor": "rgb(36,36,36)",
            "showgrid": false,
            "showline": true,
            "ticks": "outside"
           }
          },
          "title": {
           "x": 0.05
          },
          "xaxis": {
           "automargin": true,
           "gridcolor": "rgb(232,232,232)",
           "linecolor": "rgb(36,36,36)",
           "showgrid": false,
           "showline": true,
           "ticks": "outside",
           "title": {
            "standoff": 15
           },
           "zeroline": false,
           "zerolinecolor": "rgb(36,36,36)"
          },
          "yaxis": {
           "automargin": true,
           "gridcolor": "rgb(232,232,232)",
           "linecolor": "rgb(36,36,36)",
           "showgrid": false,
           "showline": true,
           "ticks": "outside",
           "title": {
            "standoff": 15
           },
           "zeroline": false,
           "zerolinecolor": "rgb(36,36,36)"
          }
         }
        },
        "title": {
         "font": {
          "family": "Impact",
          "size": 30
         },
         "text": "Distributions of Win, Loss and Draw matches"
        },
        "width": 1200,
        "xaxis": {
         "anchor": "y",
         "domain": [
          0,
          0.32
         ],
         "minor": {
          "nticks": 5,
          "showgrid": false,
          "ticklen": 4,
          "tickmode": "auto"
         },
         "title": {
          "font": {
           "family": "Arial",
           "size": 14
          },
          "text": "Win matches"
         }
        },
        "xaxis2": {
         "anchor": "y2",
         "domain": [
          0.34,
          0.66
         ],
         "minor": {
          "nticks": 5,
          "showgrid": false,
          "ticklen": 4,
          "tickmode": "auto"
         },
         "title": {
          "font": {
           "family": "Arial",
           "size": 14
          },
          "text": "Loss matches"
         }
        },
        "xaxis3": {
         "anchor": "y3",
         "domain": [
          0.68,
          1
         ],
         "minor": {
          "nticks": 5,
          "showgrid": false,
          "ticklen": 4,
          "tickmode": "auto"
         },
         "title": {
          "font": {
           "family": "Arial",
           "size": 14
          },
          "text": "Draw matches"
         }
        },
        "xaxis4": {
         "anchor": "y4",
         "domain": [
          0,
          0.32
         ],
         "minor": {
          "showgrid": false,
          "ticklen": 4
         },
         "tickvals": [
          0,
          20,
          40,
          60,
          80,
          100
         ],
         "title": {
          "font": {
           "family": "Arial",
           "size": 14
          },
          "text": "Number of goals for \"GF\""
         }
        },
        "xaxis5": {
         "anchor": "y5",
         "domain": [
          0.34,
          0.66
         ],
         "minor": {
          "nticks": 5,
          "showgrid": false,
          "ticklen": 4
         },
         "tickvals": [
          0,
          20,
          40,
          60,
          80,
          100
         ],
         "title": {
          "font": {
           "family": "Arial",
           "size": 14
          },
          "text": "Number of goals against \"GA\""
         }
        },
        "xaxis6": {
         "anchor": "y6",
         "domain": [
          0.68,
          1
         ],
         "minor": {
          "showgrid": false,
          "ticklen": 4
         },
         "tickvals": [
          -80,
          -50,
          -20,
          10,
          30,
          60,
          90
         ],
         "title": {
          "font": {
           "family": "Arial",
           "size": 14
          },
          "text": "Number of goals draw \"GD\""
         }
        },
        "yaxis": {
         "anchor": "x",
         "domain": [
          0.575,
          1
         ],
         "gridcolor": "grey",
         "gridwidth": 0.15,
         "showgrid": true
        },
        "yaxis2": {
         "anchor": "x2",
         "domain": [
          0.575,
          1
         ],
         "gridcolor": "grey",
         "gridwidth": 0.15,
         "matches": "y",
         "showgrid": true,
         "showticklabels": false
        },
        "yaxis3": {
         "anchor": "x3",
         "domain": [
          0.575,
          1
         ],
         "gridcolor": "grey",
         "gridwidth": 0.15,
         "matches": "y",
         "showgrid": true,
         "showticklabels": false
        },
        "yaxis4": {
         "anchor": "x4",
         "domain": [
          0,
          0.425
         ],
         "gridcolor": "grey",
         "gridwidth": 0.15,
         "showgrid": true
        },
        "yaxis5": {
         "anchor": "x5",
         "domain": [
          0,
          0.425
         ],
         "gridcolor": "grey",
         "gridwidth": 0.15,
         "matches": "y4",
         "showgrid": true,
         "showticklabels": false
        },
        "yaxis6": {
         "anchor": "x6",
         "domain": [
          0,
          0.425
         ],
         "gridcolor": "grey",
         "gridwidth": 0.15,
         "matches": "y4",
         "showgrid": true,
         "showticklabels": false
        }
       }
      }
     },
     "metadata": {},
     "output_type": "display_data"
    }
   ],
   "source": [
    "fig = make_subplots(rows=2, cols=3, shared_yaxes=True, horizontal_spacing=0.02)\n",
    "for c, i in zip(countries, color):\n",
    "    fig.append_trace(go.Violin(x=list(dist[dist[\"Country\"]==c][\"W\"]), \n",
    "                        line_color=i,\n",
    "                       name=c,\n",
    "                        ), row=1, col=1)\n",
    "for c, i in zip(countries, color1):\n",
    "    fig.append_trace(go.Violin(x=list(dist[dist[\"Country\"]==c][\"L\"]), \n",
    "                        line_color=i,\n",
    "                       name=c,\n",
    "                        ), row=1, col=2)\n",
    "for c, i in zip(countries, color2):\n",
    "    fig.append_trace(go.Violin(x=list(dist[dist[\"Country\"]==c][\"D\"]), \n",
    "                        line_color=i,\n",
    "                       name=c,\n",
    "                        ), row=1, col=3)\n",
    "for c, i in zip(countries, color3):\n",
    "    fig.append_trace(go.Violin(x=list(dist[dist[\"Country\"]==c][\"GF\"]),\n",
    "                              line_color=i,\n",
    "                              name=c), row=2, col=1)\n",
    "for c, i in zip(countries, color4):\n",
    "    fig.append_trace(go.Violin(x=list(dist[dist[\"Country\"]==c][\"GA\"]),\n",
    "                              line_color=i,\n",
    "                              name=c), row=2, col=2)\n",
    "for c, i in zip(countries, color5):\n",
    "    fig.append_trace(go.Violin(x=list(dist[dist[\"Country\"]==c][\"GD\"]),\n",
    "                              line_color=i,\n",
    "                              name=c), row=2, col=3)\n",
    "fig.update_traces(orientation='h', side='positive', points=False, width=3)\n",
    "\n",
    "fig.update_layout(\n",
    "    height=600,\n",
    "    width=1200,\n",
    "    template='simple_white', \n",
    "    showlegend=False,\n",
    "    xaxis1=dict(title='Win matches', titlefont_size=14, titlefont_family='Arial', \n",
    "                minor=dict(nticks=5, showgrid=False, ticklen=4, tickmode='auto')),\n",
    "    xaxis2=dict(title=\"Loss matches\", titlefont_size=14, titlefont_family='Arial',\n",
    "               minor=dict(nticks=5, showgrid=False, ticklen=4, tickmode='auto')),\n",
    "    xaxis3=dict(title='Draw matches', titlefont_size=14, titlefont_family='Arial',\n",
    "               minor=dict(nticks=5, showgrid=False, ticklen=4, tickmode='auto')),\n",
    "    xaxis4=dict(title='Number of goals for \"GF\"', titlefont_size=14, titlefont_family='Arial',\n",
    "                tickvals=[0, 20, 40, 60, 80, 100],\n",
    "                minor=dict(showgrid=False, ticklen=4)),\n",
    "    xaxis5=dict(title='Number of goals against \"GA\"', titlefont_size=14, titlefont_family='Arial', \n",
    "                tickvals=[i*20 for i in range(6)],\n",
    "               minor=dict(nticks=5, showgrid=False, ticklen=4)),\n",
    "    xaxis6=dict(title='Number of goals draw \"GD\"', titlefont_size=14, titlefont_family='Arial',\n",
    "                tickvals=[-80, -50, -20, 10, 30, 60, 90],\n",
    "               minor=dict(showgrid=False, ticklen=4)),\n",
    "    title=dict(text='Distributions of Win, Loss and Draw matches', font_size=30, font_family='Impact'),\n",
    "    yaxis=dict(showgrid=True),\n",
    "    yaxis1=dict(showgrid=True, gridcolor='grey', gridwidth=0.15),\n",
    "    yaxis2=dict(showgrid=True, gridcolor='grey', gridwidth=0.15),\n",
    "    yaxis3=dict(showgrid=True, gridcolor='grey', gridwidth=0.15),\n",
    "    yaxis4=dict(showgrid=True, gridcolor='grey', gridwidth=0.15),\n",
    "    yaxis5=dict(showgrid=True, gridcolor='grey', gridwidth=0.15),\n",
    "    yaxis6=dict(showgrid=True, gridcolor='grey', gridwidth=0.15), \n",
    "    plot_bgcolor = get_color('light:b', len(countries))[0], \n",
    "    #paper_bgcolor = 'yellow'\n",
    ")\n",
    "#fig.show()"
   ]
  }
 ],
 "metadata": {
  "kernelspec": {
   "display_name": "base",
   "language": "python",
   "name": "python3"
  },
  "language_info": {
   "codemirror_mode": {
    "name": "ipython",
    "version": 3
   },
   "file_extension": ".py",
   "mimetype": "text/x-python",
   "name": "python",
   "nbconvert_exporter": "python",
   "pygments_lexer": "ipython3",
   "version": "3.11.7"
  }
 },
 "nbformat": 4,
 "nbformat_minor": 2
}
